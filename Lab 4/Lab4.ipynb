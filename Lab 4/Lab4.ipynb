{
  "nbformat": 4,
  "nbformat_minor": 0,
  "metadata": {
    "colab": {
      "provenance": []
    },
    "kernelspec": {
      "name": "python3",
      "display_name": "Python 3"
    },
    "language_info": {
      "name": "python"
    }
  },
  "cells": [
    {
      "cell_type": "code",
      "execution_count": null,
      "metadata": {
        "colab": {
          "base_uri": "https://localhost:8080/"
        },
        "id": "c1eyjtOEUJ5I",
        "outputId": "f4825386-3f1b-4c8c-8579-1a11cbb0ed00"
      },
      "outputs": [
        {
          "output_type": "stream",
          "name": "stdout",
          "text": [
            "Mounted at /content/drive\n"
          ]
        }
      ],
      "source": [
        "from google.colab import drive\n",
        "drive.mount('/content/drive')"
      ]
    },
    {
      "cell_type": "code",
      "source": [
        "# Filepath to shared drive\n",
        "# filepath = '/content/drive/MyDrive/AANDA/'\n",
        "\n",
        "# Filepath to your own drive folder and files if it doesn't work\n",
        "filepath = \"/content/drive/MyDrive/ANNDA/Lab4/lab4_code/\"\n",
        "\n",
        "# Filepath to your own drive folder and files if it doesn't work\n",
        "#filepath = \"/content/drive/MyDrive/TMAIM/DD2437-ANNDA/AANDA/Lab4/lab4_code/\""
      ],
      "metadata": {
        "id": "wnog__9BUbOK"
      },
      "execution_count": null,
      "outputs": []
    },
    {
      "cell_type": "code",
      "source": [
        "import numpy as np\n",
        "import matplotlib.pyplot as plt"
      ],
      "metadata": {
        "id": "l6KBD6DuD3uC"
      },
      "execution_count": null,
      "outputs": []
    },
    {
      "cell_type": "markdown",
      "source": [
        "#Given code files"
      ],
      "metadata": {
        "id": "sC9bxSvADdGb"
      }
    },
    {
      "cell_type": "markdown",
      "source": [
        "##util.py"
      ],
      "metadata": {
        "id": "Gi66X4_FEAzO"
      }
    },
    {
      "cell_type": "code",
      "source": [
        "def sigmoid(support):\n",
        "\n",
        "    \"\"\"\n",
        "    Sigmoid activation function that finds probabilities to turn ON each unit.\n",
        "\n",
        "    Args:\n",
        "      support: shape is (size of mini-batch, size of layer)\n",
        "    Returns:\n",
        "      on_probabilities: shape is (size of mini-batch, size of layer)\n",
        "    \"\"\"\n",
        "\n",
        "    on_probabilities = 1./(1.+np.exp(-support))\n",
        "    return on_probabilities\n",
        "\n",
        "def softmax(support):\n",
        "\n",
        "    \"\"\"\n",
        "    Softmax activation function that finds probabilities of each category\n",
        "\n",
        "    Args:\n",
        "      support: shape is (size of mini-batch, number of categories)\n",
        "    Returns:\n",
        "      probabilities: shape is (size of mini-batch, number of categories)\n",
        "    \"\"\"\n",
        "\n",
        "    expsup = np.exp(support-np.max(support,axis=1)[:,None])\n",
        "    return expsup / np.sum(expsup,axis=1)[:,None]\n",
        "\n",
        "def sample_binary(on_probabilities):\n",
        "\n",
        "    \"\"\"\n",
        "    Sample activations ON=1 (OFF=0) from probabilities sigmoid probabilities\n",
        "\n",
        "    Args:\n",
        "      support: shape is (size of mini-batch, size of layer)\n",
        "    Returns:\n",
        "      activations: shape is (size of mini-batch, size of layer)\n",
        "    \"\"\"\n",
        "\n",
        "    activations = 1. * ( on_probabilities >= np.random.random_sample(size=on_probabilities.shape) )\n",
        "    return activations\n",
        "\n",
        "def sample_categorical(probabilities):\n",
        "\n",
        "    \"\"\"\n",
        "    Sample one-hot activations from categorical probabilities\n",
        "\n",
        "    Args:\n",
        "      support: shape is (size of mini-batch, number of categories)\n",
        "    Returns:\n",
        "      activations: shape is (size of mini-batch, number of categories)\n",
        "    \"\"\"\n",
        "\n",
        "    cumsum = np.cumsum(probabilities,axis=1)\n",
        "    rand = np.random.random_sample(size=probabilities.shape[0])[:,None]\n",
        "    activations = np.zeros(probabilities.shape)\n",
        "    activations[range(probabilities.shape[0]),np.argmax((cumsum >= rand),axis=1)] = 1\n",
        "    return activations\n",
        "\n",
        "def load_idxfile(filename):\n",
        "\n",
        "    \"\"\"\n",
        "    Load idx file format. For more information : http://yann.lecun.com/exdb/mnist/\n",
        "    \"\"\"\n",
        "    import struct\n",
        "\n",
        "    with open(filename,'rb') as _file:\n",
        "        if ord(_file.read(1)) != 0 or ord(_file.read(1)) != 0 :\n",
        "           raise Exception('Invalid idx file: unexpected magic number!')\n",
        "        dtype,ndim = ord(_file.read(1)),ord(_file.read(1))\n",
        "        shape = [struct.unpack(\">I\", _file.read(4))[0] for _ in range(ndim)]\n",
        "        data = np.fromfile(_file, dtype=np.dtype(np.uint8).newbyteorder('>')).reshape(shape)\n",
        "    return data\n",
        "\n",
        "def read_mnist(dim=[28,28],n_train=60000,n_test=1000):\n",
        "\n",
        "    \"\"\"\n",
        "    Read mnist train and test data. Images are normalized to be in range [0,1]. Labels are one-hot coded.\n",
        "    \"\"\"\n",
        "\n",
        "    train_imgs = load_idxfile(filepath+\"train-images-idx3-ubyte\")\n",
        "    train_imgs = train_imgs / 255.\n",
        "    train_imgs = train_imgs.reshape(-1,dim[0]*dim[1])\n",
        "\n",
        "    train_lbls = load_idxfile(filepath+\"train-labels-idx1-ubyte\")\n",
        "    train_lbls_1hot = np.zeros((len(train_lbls),10),dtype=np.float32)\n",
        "    train_lbls_1hot[range(len(train_lbls)),train_lbls] = 1.\n",
        "\n",
        "    test_imgs = load_idxfile(filepath+\"t10k-images-idx3-ubyte\")\n",
        "    test_imgs = test_imgs / 255.\n",
        "    test_imgs = test_imgs.reshape(-1,dim[0]*dim[1])\n",
        "\n",
        "    test_lbls = load_idxfile(filepath+\"t10k-labels-idx1-ubyte\")\n",
        "    test_lbls_1hot = np.zeros((len(test_lbls),10),dtype=np.float32)\n",
        "    test_lbls_1hot[range(len(test_lbls)),test_lbls] = 1.\n",
        "\n",
        "    return train_imgs[:n_train],train_lbls_1hot[:n_train],test_imgs[:n_test],test_lbls_1hot[:n_test]\n",
        "\n",
        "def viz_rf(weights,it,grid):\n",
        "\n",
        "    \"\"\"\n",
        "    Visualize receptive fields and save\n",
        "    \"\"\"\n",
        "    fig, axs = plt.subplots(grid[0],grid[1],figsize=(grid[1],grid[0]))#,constrained_layout=True)\n",
        "    plt.subplots_adjust(left=0,bottom=0,right=1,top=1,wspace=0,hspace=0)\n",
        "    imax = abs(weights).max()\n",
        "    for x in range(grid[0]):\n",
        "        for y in range(grid[1]):\n",
        "            axs[x,y].set_xticks([]);\n",
        "            axs[x,y].set_yticks([]);\n",
        "            axs[x,y].imshow(weights[:,:,y+grid[1]*x], cmap=\"bwr\", vmin=-imax, vmax=imax, interpolation=None)\n",
        "    plt.savefig(filepath+\"rf.iter%06d.png\"%it)\n",
        "    plt.close('all')\n",
        "\n",
        "def stitch_video(fig,imgs):\n",
        "    \"\"\"\n",
        "    Stitches a list of images and returns a animation object\n",
        "    \"\"\"\n",
        "    import matplotlib.animation as animation\n",
        "\n",
        "    return animation.ArtistAnimation(fig, imgs, interval=100, blit=True, repeat=False)\n"
      ],
      "metadata": {
        "id": "SeNZhiyIEGrl"
      },
      "execution_count": null,
      "outputs": []
    },
    {
      "cell_type": "markdown",
      "source": [
        "##rbm.py"
      ],
      "metadata": {
        "id": "pC-zacwYFFxG"
      }
    },
    {
      "cell_type": "code",
      "source": [
        "class RestrictedBoltzmannMachine():\n",
        "    '''\n",
        "    For more details : A Practical Guide to Training Restricted Boltzmann Machines https://www.cs.toronto.edu/~hinton/absps/guideTR.pdf\n",
        "    '''\n",
        "    def __init__(self, ndim_visible, ndim_hidden, is_bottom=False, image_size=[28,28], is_top=False, n_labels=10, batch_size=10):\n",
        "\n",
        "        \"\"\"\n",
        "        Args:\n",
        "          ndim_visible: Number of units in visible layer.\n",
        "          ndim_hidden: Number of units in hidden layer.\n",
        "          is_bottom: True only if this rbm is at the bottom of the stack in a deep belief net. Used to interpret visible layer as image data with dimensions \"image_size\".\n",
        "          image_size: Image dimension for visible layer.\n",
        "          is_top: True only if this rbm is at the top of stack in deep beleif net. Used to interpret visible layer as concatenated with \"n_label\" unit of label data at the end.\n",
        "          n_label: Number of label categories.\n",
        "          batch_size: Size of mini-batch.\n",
        "        \"\"\"\n",
        "\n",
        "        self.ndim_visible = ndim_visible\n",
        "\n",
        "        self.ndim_hidden = ndim_hidden\n",
        "\n",
        "        self.is_bottom = is_bottom\n",
        "\n",
        "        if is_bottom : self.image_size = image_size\n",
        "\n",
        "        self.is_top = is_top\n",
        "\n",
        "        if is_top : self.n_labels = 10\n",
        "\n",
        "        self.batch_size = batch_size\n",
        "\n",
        "        self.delta_bias_v = 0\n",
        "\n",
        "        self.delta_weight_vh = 0\n",
        "\n",
        "        self.delta_bias_h = 0\n",
        "\n",
        "        self.bias_v = np.random.normal(loc=0.0, scale=0.01, size=(self.ndim_visible))\n",
        "\n",
        "        self.weight_vh = np.random.normal(loc=0.0, scale=0.01, size=(self.ndim_visible,self.ndim_hidden))\n",
        "\n",
        "        self.bias_h = np.random.normal(loc=0.0, scale=0.01, size=(self.ndim_hidden))\n",
        "\n",
        "        self.delta_weight_v_to_h = 0\n",
        "\n",
        "        self.delta_weight_h_to_v = 0\n",
        "\n",
        "        self.weight_v_to_h = None\n",
        "\n",
        "        self.weight_h_to_v = None\n",
        "\n",
        "        self.learning_rate = 0.01\n",
        "\n",
        "        self.momentum = 0.7\n",
        "\n",
        "        self.print_period = 400\n",
        "\n",
        "        self.rf = { # receptive-fields. Only applicable when visible layer is input data\n",
        "            \"period\" : 400, # iteration period to visualize\n",
        "            \"grid\" : [5,5], # size of the grid\n",
        "            \"ids\" : np.random.randint(0,self.ndim_hidden,25) # pick some random hidden units\n",
        "            }\n",
        "\n",
        "        return\n",
        "\n",
        "\n",
        "    def cd1(self,visible_trainset, n_iterations=10000):\n",
        "\n",
        "        \"\"\"Contrastive Divergence with k=1 full alternating Gibbs sampling\n",
        "\n",
        "        Args:\n",
        "          visible_trainset: training data for this rbm, shape is (size of training set, size of visible layer)\n",
        "          n_iterations: number of iterations of learning (each iteration learns a mini-batch)\n",
        "        \"\"\"\n",
        "\n",
        "        print (\"learning CD1\")\n",
        "\n",
        "        n_samples = visible_trainset.shape[0]\n",
        "\n",
        "        self.rec_loss = []\n",
        "        self.delta_weight_vh_norm = []\n",
        "        self.delta_bias_v_norm = []\n",
        "        self.delta_bias_h_norm = []\n",
        "\n",
        "\n",
        "        for it in range(n_iterations):\n",
        "\n",
        "\t        # [TODO TASK 4.1] run k=1 alternating Gibbs sampling : v_0 -> h_0 ->  v_1 -> h_1.\n",
        "            # you may need to use the inference functions 'get_h_given_v' and 'get_v_given_h'.\n",
        "            # note that inference methods returns both probabilities and activations (samples from probabilities) and you may have to decide when to use what.\n",
        "            ################# DONE #######################\n",
        "\n",
        "            #Gets the minibatch\n",
        "            if ((it+1)*self.batch_size)%n_samples - (it*self.batch_size)%n_samples < 0:\n",
        "                visible_minibatch=visible_trainset[(it*self.batch_size)%n_samples : n_samples]\n",
        "            else:\n",
        "                visible_minibatch=visible_trainset[(it*self.batch_size)%n_samples : ((it+1)*self.batch_size)%n_samples]\n",
        "\n",
        "            #Perform k=1 Gibbs sampling on the minibatch                #I don't know where we should use proabilities or samples???????\n",
        "            v_0=visible_minibatch\n",
        "            h_p0, h_0 = self.get_h_given_v(v_0)\n",
        "            v_1, v_1s = self.get_v_given_h(h_0)\n",
        "            h_1, h_1s = self.get_h_given_v(v_1)\n",
        "\n",
        "\n",
        "            # [TODO TASK 4.1] update the parameters using function 'update_params'\n",
        "            ############### DONE ##################\n",
        "\n",
        "            self.update_params(v_0, h_0, v_1, h_1)\n",
        "\n",
        "            # visualize once in a while when visible layer is input images\n",
        "\n",
        "            if it % self.rf[\"period\"] == 0 and self.is_bottom:\n",
        "\n",
        "                viz_rf(weights=self.weight_vh[:,self.rf[\"ids\"]].reshape((self.image_size[0],self.image_size[1],-1)), it=it, grid=self.rf[\"grid\"])\n",
        "\n",
        "            # print progress\n",
        "\n",
        "            if it % self.print_period == 0 :\n",
        "                reconstruction=self.get_v_given_h(self.get_h_given_v(visible_trainset)[1])\n",
        "                loss = np.mean(np.square(visible_trainset - reconstruction))\n",
        "                self.rec_loss.append(loss)\n",
        "\n",
        "                #print (\"iteration=%7d recon_loss=%4.4f\"%(it, np.linalg.norm(visible_trainset - reconstruction)))\n",
        "                print (\"iteration=%7d recon_loss=%4.4f\"%(it, loss))\n",
        "\n",
        "            self.delta_weight_vh_norm.append(np.linalg.norm(self.delta_weight_vh))\n",
        "            self.delta_bias_v_norm.append(np.linalg.norm(self.delta_bias_v))\n",
        "            self.delta_bias_h_norm.append(np.linalg.norm(self.delta_bias_h))\n",
        "\n",
        "\n",
        "    def update_params(self,v_0,h_0,v_k,h_k):\n",
        "\n",
        "        \"\"\"Update the weight and bias parameters.\n",
        "\n",
        "        You could also add weight decay and momentum for weight updates.\n",
        "\n",
        "        Args:\n",
        "           v_0: activities or probabilities of visible layer (data to the rbm)\n",
        "           h_0: activities or probabilities of hidden layer\n",
        "           v_k: activities or probabilities of visible layer\n",
        "           h_k: activities or probabilities of hidden layer\n",
        "           all args have shape (size of mini-batch, size of respective layer)\n",
        "        \"\"\"\n",
        "\n",
        "        # [TODO TASK 4.1] get the gradients from the arguments (replace the 0s below) and update the weight and bias parameters\n",
        "        ################ DONE ###################\n",
        "\n",
        "\n",
        "        self.delta_bias_v = self.learning_rate*np.mean(v_0-v_k, axis=0) + self.momentum*self.delta_bias_v\n",
        "        self.delta_weight_vh = self.learning_rate*(v_0.T @ h_0 - v_k.T @ h_k)/self.batch_size + self.momentum*self.delta_weight_vh\n",
        "        self.delta_bias_h = self.learning_rate*np.mean(h_0-h_k, axis=0) + self.momentum*self.delta_bias_h\n",
        "\n",
        "        self.bias_v += self.delta_bias_v\n",
        "        self.weight_vh += self.delta_weight_vh\n",
        "        self.bias_h += self.delta_bias_h\n",
        "\n",
        "        return\n",
        "\n",
        "    def get_h_given_v(self,visible_minibatch):\n",
        "\n",
        "        \"\"\"Compute probabilities p(h|v) and activations h ~ p(h|v)\n",
        "\n",
        "        Uses undirected weight \"weight_vh\" and bias \"bias_h\"\n",
        "\n",
        "        Args:\n",
        "           visible_minibatch: shape is (size of mini-batch, size of visible layer)\n",
        "        Returns:\n",
        "           tuple ( p(h|v) , h)\n",
        "           both are shaped (size of mini-batch, size of hidden layer)\n",
        "        \"\"\"\n",
        "\n",
        "        assert self.weight_vh is not None\n",
        "\n",
        "        n_samples = visible_minibatch.shape[0]\n",
        "\n",
        "        # [TODO TASK 4.1] compute probabilities and activations (samples from probabilities) of hidden layer (replace the zeros below)\n",
        "        ################## DONE ######################\n",
        "\n",
        "        probabilities=sigmoid(self.bias_h.reshape((self.ndim_hidden,1)) + (visible_minibatch @ self.weight_vh).T).T\n",
        "        random=np.random.rand(n_samples, self.ndim_hidden)\n",
        "        activations=probabilities-random\n",
        "        activations=np.ceil(activations)\n",
        "\n",
        "        return probabilities, activations\n",
        "\n",
        "\n",
        "    def get_v_given_h(self,hidden_minibatch):\n",
        "\n",
        "        \"\"\"Compute probabilities p(v|h) and activations v ~ p(v|h)\n",
        "\n",
        "        Uses undirected weight \"weight_vh\" and bias \"bias_v\"\n",
        "\n",
        "        Args:\n",
        "           hidden_minibatch: shape is (size of mini-batch, size of hidden layer)\n",
        "        Returns:\n",
        "           tuple ( p(v|h) , v)\n",
        "           both are shaped (size of mini-batch, size of visible layer)\n",
        "        \"\"\"\n",
        "\n",
        "        assert self.weight_vh is not None\n",
        "\n",
        "        n_samples = hidden_minibatch.shape[0]\n",
        "\n",
        "        if self.is_top:\n",
        "\n",
        "            \"\"\"\n",
        "            Here visible layer has both data and labels. Compute total input for each unit (identical for both cases), \\\n",
        "            and split into two parts, something like support[:, :-self.n_labels] and support[:, -self.n_labels:]. \\\n",
        "            Then, for both parts, use the appropriate activation function to get probabilities and a sampling method \\\n",
        "            to get activities. The probabilities as well as activities can then be concatenated back into a normal visible layer.\n",
        "            \"\"\"\n",
        "\n",
        "            # [TODO TASK 4.1] compute probabilities and activations (samples from probabilities) of visible layer (replace the pass below). \\\n",
        "            # Note that this section can also be postponed until TASK 4.2, since in this task, stand-alone RBMs do not contain labels in visible layer.\n",
        "\n",
        "            support=(self.bias_v.reshape((self.ndim_visible,1)) + (self.weight_vh @ hidden_minibatch.T)).T\n",
        "\n",
        "            dataprob=sigmoid(support[:, :-self.n_labels])\n",
        "            labelprob=softmax(support[:, -self.n_labels:])\n",
        "\n",
        "            dataact=sample_binary(dataprob)\n",
        "            labelact=sample_categorical(labelprob)\n",
        "\n",
        "            probabilities=np.concatenate((dataprob,labelprob),axis=1)\n",
        "            activations=np.concatenate((dataact,labelact),axis=1)\n",
        "\n",
        "        else:\n",
        "\n",
        "            # [TODO TASK 4.1] compute probabilities and activations (samples from probabilities) of visible layer (replace the pass and zeros below)\n",
        "            ############################ DONE ##############################\n",
        "\n",
        "            probabilities=sigmoid(self.bias_v.reshape((self.ndim_visible,1)) + (self.weight_vh @ hidden_minibatch.T)).T\n",
        "            random=np.random.rand(n_samples, self.ndim_visible)\n",
        "            activations=probabilities-random\n",
        "            activations=np.ceil(activations)\n",
        "\n",
        "        return probabilities, activations\n",
        "\n",
        "\n",
        "\n",
        "    \"\"\" rbm as a belief layer : the functions below do not have to be changed until running a deep belief net \"\"\"\n",
        "\n",
        "\n",
        "\n",
        "    def untwine_weights(self):\n",
        "\n",
        "        self.weight_v_to_h = np.copy( self.weight_vh )\n",
        "        self.weight_h_to_v = np.copy( np.transpose(self.weight_vh) )\n",
        "        self.weight_vh = None\n",
        "\n",
        "    def get_h_given_v_dir(self,visible_minibatch):\n",
        "\n",
        "        \"\"\"Compute probabilities p(h|v) and activations h ~ p(h|v)\n",
        "\n",
        "        Uses directed weight \"weight_v_to_h\" and bias \"bias_h\"\n",
        "\n",
        "        Args:\n",
        "           visible_minibatch: shape is (size of mini-batch, size of visible layer)\n",
        "        Returns:\n",
        "           tuple ( p(h|v) , h)\n",
        "           both are shaped (size of mini-batch, size of hidden layer)\n",
        "        \"\"\"\n",
        "\n",
        "        assert self.weight_v_to_h is not None\n",
        "\n",
        "        n_samples = visible_minibatch.shape[0]\n",
        "\n",
        "        # [TODO TASK 4.2] perform same computation as the function 'get_h_given_v' but with directed connections (replace the zeros below)\n",
        "        ############### DONE ################\n",
        "\n",
        "        probabilities=sigmoid(self.bias_h.reshape((self.ndim_hidden,1)) + (visible_minibatch @ self.weight_v_to_h).T).T\n",
        "        activations=sample_binary(probabilities)\n",
        "\n",
        "        return probabilities, activations\n",
        "\n",
        "\n",
        "    def get_v_given_h_dir(self,hidden_minibatch):\n",
        "\n",
        "\n",
        "        \"\"\"Compute probabilities p(v|h) and activations v ~ p(v|h)\n",
        "\n",
        "        Uses directed weight \"weight_h_to_v\" and bias \"bias_v\"\n",
        "\n",
        "        Args:\n",
        "           hidden_minibatch: shape is (size of mini-batch, size of hidden layer)\n",
        "        Returns:\n",
        "           tuple ( p(v|h) , v)\n",
        "           both are shaped (size of mini-batch, size of visible layer)\n",
        "        \"\"\"\n",
        "\n",
        "        assert self.weight_h_to_v is not None\n",
        "\n",
        "        n_samples = hidden_minibatch.shape[0]\n",
        "\n",
        "        if self.is_top:\n",
        "\n",
        "            \"\"\"\n",
        "            Here visible layer has both data and labels. Compute total input for each unit (identical for both cases), \\\n",
        "            and split into two parts, something like support[:, :-self.n_labels] and support[:, -self.n_labels:]. \\\n",
        "            Then, for both parts, use the appropriate activation function to get probabilities and a sampling method \\\n",
        "            to get activities. The probabilities as well as activities can then be concatenated back into a normal visible layer.\n",
        "            \"\"\"\n",
        "\n",
        "            # [TODO TASK 4.2] Note that even though this function performs same computation as 'get_v_given_h' but with directed connections,\n",
        "            # this case should never be executed : when the RBM is a part of a DBN and is at the top, it will have not have directed connections.\n",
        "            # Appropriate code here is to raise an error (replace pass below)\n",
        "            ############### DONE #################\n",
        "\n",
        "            raise RuntimeError(\"'get_v_given_h_dir' should never be called from the top layer!\")\n",
        "\n",
        "        else:\n",
        "\n",
        "            # [TODO TASK 4.2] performs same computaton as the function 'get_v_given_h' but with directed connections (replace the pass and zeros below)\n",
        "            ################ DONE #################\n",
        "\n",
        "            probabilities=sigmoid(self.bias_v.reshape((self.ndim_visible,1)) + (hidden_minibatch @ self.weight_h_to_v).T).T\n",
        "            activations=sample_binary(probabilities)\n",
        "\n",
        "        return probabilities, activations\n",
        "\n",
        "    def update_generate_params(self,inps,trgs,preds):\n",
        "\n",
        "        \"\"\"Update generative weight \"weight_h_to_v\" and bias \"bias_v\"\n",
        "\n",
        "        Args:\n",
        "           inps: activities or probabilities of input unit\n",
        "           trgs: activities or probabilities of output unit (target)\n",
        "           preds: activities or probabilities of output unit (prediction)\n",
        "           all args have shape (size of mini-batch, size of respective layer)\n",
        "        \"\"\"\n",
        "\n",
        "        # [TODO TASK 4.3] find the gradients from the arguments (replace the 0s below) and update the weight and bias parameters.\n",
        "\n",
        "        self.delta_weight_h_to_v += 0\n",
        "        self.delta_bias_v += 0\n",
        "\n",
        "        self.weight_h_to_v += self.delta_weight_h_to_v\n",
        "        self.bias_v += self.delta_bias_v\n",
        "\n",
        "        return\n",
        "\n",
        "    def update_recognize_params(self,inps,trgs,preds):\n",
        "\n",
        "        \"\"\"Update recognition weight \"weight_v_to_h\" and bias \"bias_h\"\n",
        "\n",
        "        Args:\n",
        "           inps: activities or probabilities of input unit\n",
        "           trgs: activities or probabilities of output unit (target)\n",
        "           preds: activities or probabilities of output unit (prediction)\n",
        "           all args have shape (size of mini-batch, size of respective layer)\n",
        "        \"\"\"\n",
        "\n",
        "        # [TODO TASK 4.3] find the gradients from the arguments (replace the 0s below) and update the weight and bias parameters.\n",
        "\n",
        "        self.delta_weight_v_to_h += 0\n",
        "        self.delta_bias_h += 0\n",
        "\n",
        "        self.weight_v_to_h += self.delta_weight_v_to_h\n",
        "        self.bias_h += self.delta_bias_h\n",
        "\n",
        "        return\n"
      ],
      "metadata": {
        "id": "qydWKhjuFIcb"
      },
      "execution_count": null,
      "outputs": []
    },
    {
      "cell_type": "code",
      "source": [
        "def visualize_recontructions(im, id_im, image_size = [28,28]):\n",
        "    _, h = rbm.get_h_given_v(im)\n",
        "    _, reconstruction = rbm.get_v_given_h(h)\n",
        "\n",
        "    plt.imshow(im[id_im].reshape((image_size[0], image_size[1])))\n",
        "    plt.grid(False)\n",
        "    plt.axis('off')\n",
        "    plt.show()\n",
        "\n",
        "    plt.imshow(reconstruction[id_im].reshape((image_size[0], image_size[1])))\n",
        "    plt.grid(False)\n",
        "    plt.axis('off')\n",
        "    plt.show()"
      ],
      "metadata": {
        "id": "vE_qwnB-3Mm7"
      },
      "execution_count": null,
      "outputs": []
    },
    {
      "cell_type": "markdown",
      "source": [
        "##dbn.py"
      ],
      "metadata": {
        "id": "1XXgErC2FUOo"
      }
    },
    {
      "cell_type": "code",
      "source": [
        "class DeepBeliefNet():\n",
        "\n",
        "    '''\n",
        "    For more details : Hinton, Osindero, Teh (2006). A fast learning algorithm for deep belief nets. https://www.cs.toronto.edu/~hinton/absps/fastnc.pdf\n",
        "\n",
        "    network          : [top] <---> [pen] ---> [hid] ---> [vis]\n",
        "                               `-> [lbl]\n",
        "    lbl : label\n",
        "    top : top\n",
        "    pen : penultimate\n",
        "    hid : hidden\n",
        "    vis : visible\n",
        "    '''\n",
        "\n",
        "    def __init__(self, sizes, image_size, n_labels, batch_size, load_if_possible):\n",
        "\n",
        "        \"\"\"\n",
        "        Args:\n",
        "          sizes: Dictionary of layer names and dimensions\n",
        "          image_size: Image dimension of data\n",
        "          n_labels: Number of label categories\n",
        "          batch_size: Size of mini-batch\n",
        "        \"\"\"\n",
        "\n",
        "        self.rbm_stack = {\n",
        "\n",
        "            'vis--hid' : RestrictedBoltzmannMachine(ndim_visible=sizes[\"vis\"], ndim_hidden=sizes[\"hid\"],\n",
        "                                                    is_bottom=True, image_size=image_size, batch_size=batch_size),\n",
        "\n",
        "            'hid--pen' : RestrictedBoltzmannMachine(ndim_visible=sizes[\"hid\"], ndim_hidden=sizes[\"pen\"], batch_size=batch_size),\n",
        "\n",
        "            'pen+lbl--top' : RestrictedBoltzmannMachine(ndim_visible=sizes[\"pen\"]+sizes[\"lbl\"], ndim_hidden=sizes[\"top\"],\n",
        "                                                        is_top=True, n_labels=n_labels, batch_size=batch_size)\n",
        "        }\n",
        "\n",
        "        self.sizes = sizes\n",
        "\n",
        "        self.image_size = image_size\n",
        "\n",
        "        self.batch_size = batch_size\n",
        "\n",
        "        self.n_gibbs_recog = 15\n",
        "\n",
        "        self.n_gibbs_gener = 200\n",
        "\n",
        "        self.n_gibbs_wakesleep = 5\n",
        "\n",
        "        self.print_period = 2000\n",
        "\n",
        "        self.load_if_possible = load_if_possible\n",
        "\n",
        "        return\n",
        "\n",
        "    def recognize(self,true_img,true_lbl):\n",
        "\n",
        "        \"\"\"Recognize/Classify the data into label categories and calculate the accuracy\n",
        "\n",
        "        Args:\n",
        "          true_imgs: visible data shaped (number of samples, size of visible layer)\n",
        "          true_lbl: true labels shaped (number of samples, size of label layer). Used only for calculating accuracy, not driving the net\n",
        "        \"\"\"\n",
        "\n",
        "        n_samples = true_img.shape[0]\n",
        "\n",
        "        vis = true_img # visible layer gets the image data\n",
        "\n",
        "        lbl = np.ones(true_lbl.shape)/10. # start the net by telling you know nothing about labels\n",
        "\n",
        "        # [TODO TASK 4.2] fix the image data in the visible layer and drive the network bottom to top. In the top RBM, run alternating Gibbs sampling \\\n",
        "        # and read out the labels (replace pass below and 'predicted_lbl' to your predicted labels).\n",
        "        # NOTE : inferring entire train/test set may require too much compute memory (depends on your system). In that case, divide into mini-batches.\n",
        "        #################### DONE ######################\n",
        "\n",
        "        for rbm_name in ['vis--hid', 'hid--pen']:   #go bottom to top\n",
        "            rbm = self.rbm_stack[rbm_name]\n",
        "            vis,_ =rbm.get_h_given_v_dir(vis)\n",
        "\n",
        "        rbm = self.rbm_stack[\"pen+lbl--top\"]\n",
        "        vis_lbl=np.concatenate((vis,lbl), axis=1)\n",
        "        for _ in range(self.n_gibbs_recog):\n",
        "            hid,_=rbm.get_h_given_v(vis_lbl)\n",
        "            vis_lbl,_=rbm.get_v_given_h(hid)\n",
        "\n",
        "        predicted_lbl = vis_lbl[:,-rbm.n_labels:]\n",
        "\n",
        "        print (\"accuracy = %.2f%%\"%(100.*np.mean(np.argmax(predicted_lbl,axis=1)==np.argmax(true_lbl,axis=1))))\n",
        "\n",
        "        return predicted_lbl\n",
        "\n",
        "    def generate(self,true_lbl,name):\n",
        "\n",
        "        \"\"\"Generate data from labels\n",
        "\n",
        "        Args:\n",
        "          true_lbl: true labels shaped (number of samples, size of label layer)\n",
        "          name: string used for saving a video of generated visible activations\n",
        "        \"\"\"\n",
        "        n_sample = true_lbl.shape[0]\n",
        "\n",
        "        records = []\n",
        "        fig,ax = plt.subplots(1,1,figsize=(3,3))\n",
        "        plt.subplots_adjust(left=0, bottom=0, right=1, top=1, wspace=0, hspace=0)\n",
        "        ax.set_xticks([]); ax.set_yticks([])\n",
        "\n",
        "        lbl = true_lbl\n",
        "\n",
        "        # [TODO TASK 4.2] fix the label in the label layer and run alternating Gibbs sampling in the top RBM. From the top RBM, drive the network \\\n",
        "        # top to the bottom visible layer (replace 'vis' from random to your generated visible layer).\n",
        "\n",
        "        vis=np.random.randint(0,2,(n_sample,self.sizes[\"vis\"])) #random images\n",
        "\n",
        "        for rbm_name in ['vis--hid', 'hid--pen']:   #go bottom to top\n",
        "            rbm = self.rbm_stack[rbm_name]\n",
        "            vis,_ =rbm.get_h_given_v_dir(vis)\n",
        "\n",
        "        vis=np.concatenate((vis[:,0:self.sizes[\"pen\"]],true_lbl),axis=1)\n",
        "\n",
        "        for _ in range(self.n_gibbs_gener):     # gibbs sampling\n",
        "            hid,_=self.rbm_stack['pen+lbl--top'].get_h_given_v(vis)\n",
        "            vis,_=self.rbm_stack['pen+lbl--top'].get_v_given_h(hid)\n",
        "            vis=np.concatenate((vis[:,0:self.sizes[\"pen\"]],true_lbl),axis=1)   #clamp true labels\n",
        "\n",
        "        hid=vis[:,0:self.sizes[\"pen\"]]\n",
        "\n",
        "        for rbm_name in [ 'hid--pen','vis--hid' ]:   #go top to bottom\n",
        "            rbm = self.rbm_stack[rbm_name]\n",
        "            _,hid =rbm.get_v_given_h_dir(hid)\n",
        "\n",
        "        vis=hid\n",
        "        records.append( [ ax.imshow(vis.reshape(self.image_size), cmap=\"bwr\", vmin=0, vmax=1, animated=True, interpolation=None) ] )\n",
        "\n",
        "\n",
        "        anim = stitch_video(fig,records).save(filepath+\"%s.generate%d.mp4\"%(name,np.argmax(true_lbl)))\n",
        "\n",
        "        return vis.reshape(self.image_size)\n",
        "\n",
        "    def train_greedylayerwise(self, vis_trainset, lbl_trainset, n_iterations):\n",
        "\n",
        "        \"\"\"\n",
        "        Greedy layer-wise training by stacking RBMs. This method first tries to load previous saved parameters of the entire RBM stack.\n",
        "        If not found, learns layer-by-layer (which needs to be completed) .\n",
        "        Notice that once you stack more layers on top of a RBM, the weights are permanently untwined.\n",
        "\n",
        "        Args:\n",
        "          vis_trainset: visible data shaped (size of training set, size of visible layer)\n",
        "          lbl_trainset: label data shaped (size of training set, size of label layer)\n",
        "          n_iterations: number of iterations of learning (each iteration learns a mini-batch)\n",
        "        \"\"\"\n",
        "\n",
        "        try :\n",
        "\n",
        "            if (not self.load_if_possible):\n",
        "                raise IOError()\n",
        "\n",
        "            self.loadfromfile_rbm(loc=\"trained_rbm\",name=\"vis--hid\")\n",
        "            self.rbm_stack[\"vis--hid\"].untwine_weights()\n",
        "\n",
        "            self.loadfromfile_rbm(loc=\"trained_rbm\",name=\"hid--pen\")\n",
        "            self.rbm_stack[\"hid--pen\"].untwine_weights()\n",
        "\n",
        "            self.loadfromfile_rbm(loc=\"trained_rbm\",name=\"pen+lbl--top\")\n",
        "\n",
        "        except IOError :\n",
        "\n",
        "            # [TODO TASK 4.2] use CD-1 to train all RBMs greedily\n",
        "            ########### DONE #############\n",
        "\n",
        "            print(\"training vis--hid\")\n",
        "\n",
        "            #CD-1 training for vis--hid\n",
        "            self.rbm_stack[\"vis--hid\"].cd1(vis_trainset, n_iterations)\n",
        "\n",
        "            self.savetofile_rbm(loc=\"trained_rbm\",name=\"vis--hid\")\n",
        "            self.rbm_stack[\"vis--hid\"].untwine_weights()\n",
        "\n",
        "            print(\"training hid--pen\")\n",
        "\n",
        "            #CD-1 training for hid--pen\n",
        "            transformed_trainset=self.rbm_stack[\"vis--hid\"].get_h_given_v_dir(vis_trainset)[1]\n",
        "            self.rbm_stack[\"hid--pen\"].cd1(transformed_trainset, n_iterations)\n",
        "\n",
        "            self.savetofile_rbm(loc=\"trained_rbm\",name=\"hid--pen\")\n",
        "            self.rbm_stack[\"hid--pen\"].untwine_weights()\n",
        "\n",
        "            print(\"training pen+lbl--top\")\n",
        "\n",
        "            #CD-1 training for pen+lbl--top\n",
        "            transformed_trainset=self.rbm_stack[\"hid--pen\"].get_h_given_v_dir(transformed_trainset)[1]\n",
        "            transformed_trainset=np.concatenate((transformed_trainset, lbl_trainset), axis=1)       #Adds labels\n",
        "            self.rbm_stack[\"pen+lbl--top\"].cd1(transformed_trainset, n_iterations)\n",
        "\n",
        "            self.savetofile_rbm(loc=\"trained_rbm\",name=\"pen+lbl--top\")\n",
        "\n",
        "\n",
        "        return\n",
        "\n",
        "    def train_wakesleep_finetune(self, vis_trainset, lbl_trainset, n_iterations):\n",
        "\n",
        "        \"\"\"\n",
        "        Wake-sleep method for learning all the parameters of network.\n",
        "        First tries to load previous saved parameters of the entire network.\n",
        "\n",
        "        Args:\n",
        "          vis_trainset: visible data shaped (size of training set, size of visible layer)\n",
        "          lbl_trainset: label data shaped (size of training set, size of label layer)\n",
        "          n_iterations: number of iterations of learning (each iteration learns a mini-batch)\n",
        "        \"\"\"\n",
        "\n",
        "        print (\"\\ntraining wake-sleep..\")\n",
        "\n",
        "        try :\n",
        "\n",
        "            self.loadfromfile_dbn(loc=\"trained_dbn\",name=\"vis--hid\")\n",
        "            self.loadfromfile_dbn(loc=\"trained_dbn\",name=\"hid--pen\")\n",
        "            self.loadfromfile_rbm(loc=\"trained_dbn\",name=\"pen+lbl--top\")\n",
        "\n",
        "        except IOError :\n",
        "\n",
        "            self.n_samples = vis_trainset.shape[0]\n",
        "\n",
        "            for it in range(n_iterations):\n",
        "\n",
        "                # [TODO TASK 4.3] wake-phase : drive the network bottom to top using fixing the visible and label data.\n",
        "\n",
        "                # [TODO TASK 4.3] alternating Gibbs sampling in the top RBM for k='n_gibbs_wakesleep' steps, also store neccessary information for learning this RBM.\n",
        "\n",
        "                # [TODO TASK 4.3] sleep phase : from the activities in the top RBM, drive the network top to bottom.\n",
        "\n",
        "                # [TODO TASK 4.3] compute predictions : compute generative predictions from wake-phase activations, and recognize predictions from sleep-phase activations.\n",
        "                # Note that these predictions will not alter the network activations, we use them only to learn the directed connections.\n",
        "\n",
        "                # [TODO TASK 4.3] update generative parameters : here you will only use 'update_generate_params' method from rbm class.\n",
        "\n",
        "                # [TODO TASK 4.3] update parameters of top rbm : here you will only use 'update_params' method from rbm class.\n",
        "\n",
        "                # [TODO TASK 4.3] update generative parameters : here you will only use 'update_recognize_params' method from rbm class.\n",
        "\n",
        "                if it % self.print_period == 0 : print (\"iteration=%7d\"%it)\n",
        "\n",
        "            self.savetofile_dbn(loc=\"trained_dbn\",name=\"vis--hid\")\n",
        "            self.savetofile_dbn(loc=\"trained_dbn\",name=\"hid--pen\")\n",
        "            self.savetofile_rbm(loc=\"trained_dbn\",name=\"pen+lbl--top\")\n",
        "\n",
        "        return\n",
        "\n",
        "\n",
        "    def loadfromfile_rbm(self,loc,name):\n",
        "\n",
        "        self.rbm_stack[name].weight_vh = np.load(filepath+\"%s/rbm.%s.weight_vh.npy\"%(loc,name))\n",
        "        self.rbm_stack[name].bias_v    = np.load(filepath+\"%s/rbm.%s.bias_v.npy\"%(loc,name))\n",
        "        self.rbm_stack[name].bias_h    = np.load(filepath+\"%s/rbm.%s.bias_h.npy\"%(loc,name))\n",
        "        print (\"loaded rbm[%s] from %s\"%(name,loc))\n",
        "        return\n",
        "\n",
        "    def savetofile_rbm(self,loc,name):\n",
        "\n",
        "        np.save(filepath+\"%s/rbm.%s.weight_vh\"%(loc,name), self.rbm_stack[name].weight_vh)\n",
        "        np.save(filepath+\"%s/rbm.%s.bias_v\"%(loc,name),    self.rbm_stack[name].bias_v)\n",
        "        np.save(filepath+\"%s/rbm.%s.bias_h\"%(loc,name),    self.rbm_stack[name].bias_h)\n",
        "        return\n",
        "\n",
        "    def loadfromfile_dbn(self,loc,name):\n",
        "\n",
        "        self.rbm_stack[name].weight_v_to_h = np.load(filepath+\"%s/dbn.%s.weight_v_to_h.npy\"%(loc,name))\n",
        "        self.rbm_stack[name].weight_h_to_v = np.load(filepath+\"%s/dbn.%s.weight_h_to_v.npy\"%(loc,name))\n",
        "        self.rbm_stack[name].bias_v        = np.load(filepath+\"%s/dbn.%s.bias_v.npy\"%(loc,name))\n",
        "        self.rbm_stack[name].bias_h        = np.load(filepath+\"%s/dbn.%s.bias_h.npy\"%(loc,name))\n",
        "        print (\"loaded rbm[%s] from %s\"%(name,loc))\n",
        "        return\n",
        "\n",
        "    def savetofile_dbn(self,loc,name):\n",
        "\n",
        "        np.save(filepath+\"%s/dbn.%s.weight_v_to_h\"%(loc,name), self.rbm_stack[name].weight_v_to_h)\n",
        "        np.save(filepath+\"%s/dbn.%s.weight_h_to_v\"%(loc,name), self.rbm_stack[name].weight_h_to_v)\n",
        "        np.save(filepath+\"%s/dbn.%s.bias_v\"%(loc,name),        self.rbm_stack[name].bias_v)\n",
        "        np.save(filepath+\"%s/dbn.%s.bias_h\"%(loc,name),        self.rbm_stack[name].bias_h)\n",
        "        return\n",
        "\n"
      ],
      "metadata": {
        "id": "XSzfZlWOFXT_"
      },
      "execution_count": null,
      "outputs": []
    },
    {
      "cell_type": "markdown",
      "source": [
        "##run.py"
      ],
      "metadata": {
        "id": "bThMrIavDYG5"
      }
    },
    {
      "cell_type": "code",
      "source": [
        "image_size = [28,28]\n",
        "train_imgs,train_lbls,test_imgs,test_lbls = read_mnist(dim=image_size, n_train=60000, n_test=10000) #!!!# Reduce number of samples to run dbn faster (orginally 60000, 10000)\n",
        "\n",
        "''' restricted boltzmann machine '''\n",
        "\"\"\"\n",
        "print (\"\\nStarting a Restricted Boltzmann Machine..\")\n",
        "\n",
        "rbm = RestrictedBoltzmannMachine(ndim_visible=image_size[0]*image_size[1],\n",
        "                                    ndim_hidden=500,\n",
        "                                    is_bottom=True,\n",
        "                                    image_size=image_size,\n",
        "                                    is_top=False,\n",
        "                                    n_labels=10,\n",
        "                                    batch_size=20\n",
        ")\n",
        "\n",
        "rbm.cd1(visible_trainset=train_imgs, n_iterations=1000)        #!!!# Reduce number of itterations to run faster ()\n",
        "\n",
        "\"\"\"\n",
        "''' deep- belief net '''\n",
        "\n",
        "print (\"\\nStarting a Deep Belief Net..\")\n",
        "\n",
        "dbn = DeepBeliefNet(sizes={\"vis\":image_size[0]*image_size[1], \"hid\":500, \"pen\":500, \"top\":2000, \"lbl\":10},\n",
        "                    image_size=image_size,\n",
        "                    n_labels=10,\n",
        "                    batch_size=20,\n",
        "                    load_if_possible=True  #Forces retraining if false\n",
        ")\n",
        "\n",
        "''' greedy layer-wise training '''\n",
        "\n",
        "dbn.train_greedylayerwise(vis_trainset=train_imgs, lbl_trainset=train_lbls, n_iterations=1000)\n",
        "\"\"\"\n",
        "pred_lbls_train=dbn.recognize(train_imgs, train_lbls)\n",
        "\n",
        "pred_lbls_test=dbn.recognize(test_imgs, test_lbls)\n",
        "\n",
        "for digit in range(10):\n",
        "    digit_1hot = np.zeros(shape=(100,10))\n",
        "    digit_1hot[10*digit:10*digit+9,digit] = 1\n",
        "    dbn.generate(digit_1hot, name=\"rbms\")\n",
        "\"\"\"\n",
        "im=[]\n",
        "for i in range(10):\n",
        "  for digit in range(10):\n",
        "      digit_1hot = np.zeros(shape=(1,10))\n",
        "      digit_1hot[0,digit] = 1\n",
        "      im.append(dbn.generate(digit_1hot, name=\"dbn\"))\n",
        "\"\"\"\n",
        "\n",
        "\n",
        "''' fine-tune wake-sleep training '''\n",
        "\n",
        "dbn.train_wakesleep_finetune(vis_trainset=train_imgs, lbl_trainset=train_lbls, n_iterations=10000)\n",
        "\n",
        "dbn.recognize(train_imgs, train_lbls)\n",
        "\n",
        "dbn.recognize(test_imgs, test_lbls)\n",
        "\n",
        "for digit in range(10):\n",
        "    digit_1hot = np.zeros(shape=(1,10))\n",
        "    digit_1hot[0,digit] = 1\n",
        "    dbn.generate(digit_1hot, name=\"dbn\")\n",
        "\"\"\"\n"
      ],
      "metadata": {
        "colab": {
          "base_uri": "https://localhost:8080/",
          "height": 1000
        },
        "id": "7qhqoWy9Dk6H",
        "outputId": "d1f8e74d-9ca3-4e95-980d-1064af8de6bb"
      },
      "execution_count": null,
      "outputs": [
        {
          "output_type": "stream",
          "name": "stdout",
          "text": [
            "\n",
            "Starting a Deep Belief Net..\n",
            "loaded rbm[vis--hid] from trained_rbm\n",
            "loaded rbm[hid--pen] from trained_rbm\n",
            "loaded rbm[pen+lbl--top] from trained_rbm\n"
          ]
        },
        {
          "output_type": "stream",
          "name": "stderr",
          "text": [
            "<ipython-input-137-6e6a07b66bcb>:101: RuntimeWarning: More than 20 figures have been opened. Figures created through the pyplot interface (`matplotlib.pyplot.figure`) are retained until explicitly closed and may consume too much memory. (To control this warning, see the rcParam `figure.max_open_warning`).\n",
            "  fig,ax = plt.subplots(1,1,figsize=(3,3))\n",
            "<ipython-input-137-6e6a07b66bcb>:101: RuntimeWarning: More than 20 figures have been opened. Figures created through the pyplot interface (`matplotlib.pyplot.figure`) are retained until explicitly closed and may consume too much memory. (To control this warning, see the rcParam `figure.max_open_warning`).\n",
            "  fig,ax = plt.subplots(1,1,figsize=(3,3))\n",
            "<ipython-input-137-6e6a07b66bcb>:101: RuntimeWarning: More than 20 figures have been opened. Figures created through the pyplot interface (`matplotlib.pyplot.figure`) are retained until explicitly closed and may consume too much memory. (To control this warning, see the rcParam `figure.max_open_warning`).\n",
            "  fig,ax = plt.subplots(1,1,figsize=(3,3))\n",
            "<ipython-input-137-6e6a07b66bcb>:101: RuntimeWarning: More than 20 figures have been opened. Figures created through the pyplot interface (`matplotlib.pyplot.figure`) are retained until explicitly closed and may consume too much memory. (To control this warning, see the rcParam `figure.max_open_warning`).\n",
            "  fig,ax = plt.subplots(1,1,figsize=(3,3))\n",
            "<ipython-input-137-6e6a07b66bcb>:101: RuntimeWarning: More than 20 figures have been opened. Figures created through the pyplot interface (`matplotlib.pyplot.figure`) are retained until explicitly closed and may consume too much memory. (To control this warning, see the rcParam `figure.max_open_warning`).\n",
            "  fig,ax = plt.subplots(1,1,figsize=(3,3))\n",
            "<ipython-input-137-6e6a07b66bcb>:101: RuntimeWarning: More than 20 figures have been opened. Figures created through the pyplot interface (`matplotlib.pyplot.figure`) are retained until explicitly closed and may consume too much memory. (To control this warning, see the rcParam `figure.max_open_warning`).\n",
            "  fig,ax = plt.subplots(1,1,figsize=(3,3))\n",
            "<ipython-input-137-6e6a07b66bcb>:101: RuntimeWarning: More than 20 figures have been opened. Figures created through the pyplot interface (`matplotlib.pyplot.figure`) are retained until explicitly closed and may consume too much memory. (To control this warning, see the rcParam `figure.max_open_warning`).\n",
            "  fig,ax = plt.subplots(1,1,figsize=(3,3))\n",
            "<ipython-input-137-6e6a07b66bcb>:101: RuntimeWarning: More than 20 figures have been opened. Figures created through the pyplot interface (`matplotlib.pyplot.figure`) are retained until explicitly closed and may consume too much memory. (To control this warning, see the rcParam `figure.max_open_warning`).\n",
            "  fig,ax = plt.subplots(1,1,figsize=(3,3))\n",
            "<ipython-input-137-6e6a07b66bcb>:101: RuntimeWarning: More than 20 figures have been opened. Figures created through the pyplot interface (`matplotlib.pyplot.figure`) are retained until explicitly closed and may consume too much memory. (To control this warning, see the rcParam `figure.max_open_warning`).\n",
            "  fig,ax = plt.subplots(1,1,figsize=(3,3))\n",
            "<ipython-input-137-6e6a07b66bcb>:101: RuntimeWarning: More than 20 figures have been opened. Figures created through the pyplot interface (`matplotlib.pyplot.figure`) are retained until explicitly closed and may consume too much memory. (To control this warning, see the rcParam `figure.max_open_warning`).\n",
            "  fig,ax = plt.subplots(1,1,figsize=(3,3))\n",
            "<ipython-input-137-6e6a07b66bcb>:101: RuntimeWarning: More than 20 figures have been opened. Figures created through the pyplot interface (`matplotlib.pyplot.figure`) are retained until explicitly closed and may consume too much memory. (To control this warning, see the rcParam `figure.max_open_warning`).\n",
            "  fig,ax = plt.subplots(1,1,figsize=(3,3))\n",
            "<ipython-input-137-6e6a07b66bcb>:101: RuntimeWarning: More than 20 figures have been opened. Figures created through the pyplot interface (`matplotlib.pyplot.figure`) are retained until explicitly closed and may consume too much memory. (To control this warning, see the rcParam `figure.max_open_warning`).\n",
            "  fig,ax = plt.subplots(1,1,figsize=(3,3))\n",
            "<ipython-input-137-6e6a07b66bcb>:101: RuntimeWarning: More than 20 figures have been opened. Figures created through the pyplot interface (`matplotlib.pyplot.figure`) are retained until explicitly closed and may consume too much memory. (To control this warning, see the rcParam `figure.max_open_warning`).\n",
            "  fig,ax = plt.subplots(1,1,figsize=(3,3))\n",
            "<ipython-input-137-6e6a07b66bcb>:101: RuntimeWarning: More than 20 figures have been opened. Figures created through the pyplot interface (`matplotlib.pyplot.figure`) are retained until explicitly closed and may consume too much memory. (To control this warning, see the rcParam `figure.max_open_warning`).\n",
            "  fig,ax = plt.subplots(1,1,figsize=(3,3))\n",
            "<ipython-input-137-6e6a07b66bcb>:101: RuntimeWarning: More than 20 figures have been opened. Figures created through the pyplot interface (`matplotlib.pyplot.figure`) are retained until explicitly closed and may consume too much memory. (To control this warning, see the rcParam `figure.max_open_warning`).\n",
            "  fig,ax = plt.subplots(1,1,figsize=(3,3))\n",
            "<ipython-input-137-6e6a07b66bcb>:101: RuntimeWarning: More than 20 figures have been opened. Figures created through the pyplot interface (`matplotlib.pyplot.figure`) are retained until explicitly closed and may consume too much memory. (To control this warning, see the rcParam `figure.max_open_warning`).\n",
            "  fig,ax = plt.subplots(1,1,figsize=(3,3))\n",
            "<ipython-input-137-6e6a07b66bcb>:101: RuntimeWarning: More than 20 figures have been opened. Figures created through the pyplot interface (`matplotlib.pyplot.figure`) are retained until explicitly closed and may consume too much memory. (To control this warning, see the rcParam `figure.max_open_warning`).\n",
            "  fig,ax = plt.subplots(1,1,figsize=(3,3))\n",
            "<ipython-input-137-6e6a07b66bcb>:101: RuntimeWarning: More than 20 figures have been opened. Figures created through the pyplot interface (`matplotlib.pyplot.figure`) are retained until explicitly closed and may consume too much memory. (To control this warning, see the rcParam `figure.max_open_warning`).\n",
            "  fig,ax = plt.subplots(1,1,figsize=(3,3))\n",
            "<ipython-input-137-6e6a07b66bcb>:101: RuntimeWarning: More than 20 figures have been opened. Figures created through the pyplot interface (`matplotlib.pyplot.figure`) are retained until explicitly closed and may consume too much memory. (To control this warning, see the rcParam `figure.max_open_warning`).\n",
            "  fig,ax = plt.subplots(1,1,figsize=(3,3))\n",
            "<ipython-input-137-6e6a07b66bcb>:101: RuntimeWarning: More than 20 figures have been opened. Figures created through the pyplot interface (`matplotlib.pyplot.figure`) are retained until explicitly closed and may consume too much memory. (To control this warning, see the rcParam `figure.max_open_warning`).\n",
            "  fig,ax = plt.subplots(1,1,figsize=(3,3))\n",
            "<ipython-input-137-6e6a07b66bcb>:101: RuntimeWarning: More than 20 figures have been opened. Figures created through the pyplot interface (`matplotlib.pyplot.figure`) are retained until explicitly closed and may consume too much memory. (To control this warning, see the rcParam `figure.max_open_warning`).\n",
            "  fig,ax = plt.subplots(1,1,figsize=(3,3))\n",
            "<ipython-input-137-6e6a07b66bcb>:101: RuntimeWarning: More than 20 figures have been opened. Figures created through the pyplot interface (`matplotlib.pyplot.figure`) are retained until explicitly closed and may consume too much memory. (To control this warning, see the rcParam `figure.max_open_warning`).\n",
            "  fig,ax = plt.subplots(1,1,figsize=(3,3))\n",
            "<ipython-input-137-6e6a07b66bcb>:101: RuntimeWarning: More than 20 figures have been opened. Figures created through the pyplot interface (`matplotlib.pyplot.figure`) are retained until explicitly closed and may consume too much memory. (To control this warning, see the rcParam `figure.max_open_warning`).\n",
            "  fig,ax = plt.subplots(1,1,figsize=(3,3))\n",
            "<ipython-input-137-6e6a07b66bcb>:101: RuntimeWarning: More than 20 figures have been opened. Figures created through the pyplot interface (`matplotlib.pyplot.figure`) are retained until explicitly closed and may consume too much memory. (To control this warning, see the rcParam `figure.max_open_warning`).\n",
            "  fig,ax = plt.subplots(1,1,figsize=(3,3))\n",
            "<ipython-input-137-6e6a07b66bcb>:101: RuntimeWarning: More than 20 figures have been opened. Figures created through the pyplot interface (`matplotlib.pyplot.figure`) are retained until explicitly closed and may consume too much memory. (To control this warning, see the rcParam `figure.max_open_warning`).\n",
            "  fig,ax = plt.subplots(1,1,figsize=(3,3))\n",
            "<ipython-input-137-6e6a07b66bcb>:101: RuntimeWarning: More than 20 figures have been opened. Figures created through the pyplot interface (`matplotlib.pyplot.figure`) are retained until explicitly closed and may consume too much memory. (To control this warning, see the rcParam `figure.max_open_warning`).\n",
            "  fig,ax = plt.subplots(1,1,figsize=(3,3))\n",
            "<ipython-input-137-6e6a07b66bcb>:101: RuntimeWarning: More than 20 figures have been opened. Figures created through the pyplot interface (`matplotlib.pyplot.figure`) are retained until explicitly closed and may consume too much memory. (To control this warning, see the rcParam `figure.max_open_warning`).\n",
            "  fig,ax = plt.subplots(1,1,figsize=(3,3))\n",
            "<ipython-input-137-6e6a07b66bcb>:101: RuntimeWarning: More than 20 figures have been opened. Figures created through the pyplot interface (`matplotlib.pyplot.figure`) are retained until explicitly closed and may consume too much memory. (To control this warning, see the rcParam `figure.max_open_warning`).\n",
            "  fig,ax = plt.subplots(1,1,figsize=(3,3))\n",
            "<ipython-input-137-6e6a07b66bcb>:101: RuntimeWarning: More than 20 figures have been opened. Figures created through the pyplot interface (`matplotlib.pyplot.figure`) are retained until explicitly closed and may consume too much memory. (To control this warning, see the rcParam `figure.max_open_warning`).\n",
            "  fig,ax = plt.subplots(1,1,figsize=(3,3))\n",
            "<ipython-input-137-6e6a07b66bcb>:101: RuntimeWarning: More than 20 figures have been opened. Figures created through the pyplot interface (`matplotlib.pyplot.figure`) are retained until explicitly closed and may consume too much memory. (To control this warning, see the rcParam `figure.max_open_warning`).\n",
            "  fig,ax = plt.subplots(1,1,figsize=(3,3))\n",
            "<ipython-input-137-6e6a07b66bcb>:101: RuntimeWarning: More than 20 figures have been opened. Figures created through the pyplot interface (`matplotlib.pyplot.figure`) are retained until explicitly closed and may consume too much memory. (To control this warning, see the rcParam `figure.max_open_warning`).\n",
            "  fig,ax = plt.subplots(1,1,figsize=(3,3))\n",
            "<ipython-input-137-6e6a07b66bcb>:101: RuntimeWarning: More than 20 figures have been opened. Figures created through the pyplot interface (`matplotlib.pyplot.figure`) are retained until explicitly closed and may consume too much memory. (To control this warning, see the rcParam `figure.max_open_warning`).\n",
            "  fig,ax = plt.subplots(1,1,figsize=(3,3))\n",
            "<ipython-input-137-6e6a07b66bcb>:101: RuntimeWarning: More than 20 figures have been opened. Figures created through the pyplot interface (`matplotlib.pyplot.figure`) are retained until explicitly closed and may consume too much memory. (To control this warning, see the rcParam `figure.max_open_warning`).\n",
            "  fig,ax = plt.subplots(1,1,figsize=(3,3))\n",
            "<ipython-input-137-6e6a07b66bcb>:101: RuntimeWarning: More than 20 figures have been opened. Figures created through the pyplot interface (`matplotlib.pyplot.figure`) are retained until explicitly closed and may consume too much memory. (To control this warning, see the rcParam `figure.max_open_warning`).\n",
            "  fig,ax = plt.subplots(1,1,figsize=(3,3))\n",
            "<ipython-input-137-6e6a07b66bcb>:101: RuntimeWarning: More than 20 figures have been opened. Figures created through the pyplot interface (`matplotlib.pyplot.figure`) are retained until explicitly closed and may consume too much memory. (To control this warning, see the rcParam `figure.max_open_warning`).\n",
            "  fig,ax = plt.subplots(1,1,figsize=(3,3))\n",
            "<ipython-input-137-6e6a07b66bcb>:101: RuntimeWarning: More than 20 figures have been opened. Figures created through the pyplot interface (`matplotlib.pyplot.figure`) are retained until explicitly closed and may consume too much memory. (To control this warning, see the rcParam `figure.max_open_warning`).\n",
            "  fig,ax = plt.subplots(1,1,figsize=(3,3))\n",
            "<ipython-input-137-6e6a07b66bcb>:101: RuntimeWarning: More than 20 figures have been opened. Figures created through the pyplot interface (`matplotlib.pyplot.figure`) are retained until explicitly closed and may consume too much memory. (To control this warning, see the rcParam `figure.max_open_warning`).\n",
            "  fig,ax = plt.subplots(1,1,figsize=(3,3))\n",
            "<ipython-input-137-6e6a07b66bcb>:101: RuntimeWarning: More than 20 figures have been opened. Figures created through the pyplot interface (`matplotlib.pyplot.figure`) are retained until explicitly closed and may consume too much memory. (To control this warning, see the rcParam `figure.max_open_warning`).\n",
            "  fig,ax = plt.subplots(1,1,figsize=(3,3))\n",
            "<ipython-input-137-6e6a07b66bcb>:101: RuntimeWarning: More than 20 figures have been opened. Figures created through the pyplot interface (`matplotlib.pyplot.figure`) are retained until explicitly closed and may consume too much memory. (To control this warning, see the rcParam `figure.max_open_warning`).\n",
            "  fig,ax = plt.subplots(1,1,figsize=(3,3))\n",
            "<ipython-input-137-6e6a07b66bcb>:101: RuntimeWarning: More than 20 figures have been opened. Figures created through the pyplot interface (`matplotlib.pyplot.figure`) are retained until explicitly closed and may consume too much memory. (To control this warning, see the rcParam `figure.max_open_warning`).\n",
            "  fig,ax = plt.subplots(1,1,figsize=(3,3))\n",
            "<ipython-input-137-6e6a07b66bcb>:101: RuntimeWarning: More than 20 figures have been opened. Figures created through the pyplot interface (`matplotlib.pyplot.figure`) are retained until explicitly closed and may consume too much memory. (To control this warning, see the rcParam `figure.max_open_warning`).\n",
            "  fig,ax = plt.subplots(1,1,figsize=(3,3))\n",
            "<ipython-input-137-6e6a07b66bcb>:101: RuntimeWarning: More than 20 figures have been opened. Figures created through the pyplot interface (`matplotlib.pyplot.figure`) are retained until explicitly closed and may consume too much memory. (To control this warning, see the rcParam `figure.max_open_warning`).\n",
            "  fig,ax = plt.subplots(1,1,figsize=(3,3))\n",
            "<ipython-input-137-6e6a07b66bcb>:101: RuntimeWarning: More than 20 figures have been opened. Figures created through the pyplot interface (`matplotlib.pyplot.figure`) are retained until explicitly closed and may consume too much memory. (To control this warning, see the rcParam `figure.max_open_warning`).\n",
            "  fig,ax = plt.subplots(1,1,figsize=(3,3))\n",
            "<ipython-input-137-6e6a07b66bcb>:101: RuntimeWarning: More than 20 figures have been opened. Figures created through the pyplot interface (`matplotlib.pyplot.figure`) are retained until explicitly closed and may consume too much memory. (To control this warning, see the rcParam `figure.max_open_warning`).\n",
            "  fig,ax = plt.subplots(1,1,figsize=(3,3))\n",
            "<ipython-input-137-6e6a07b66bcb>:101: RuntimeWarning: More than 20 figures have been opened. Figures created through the pyplot interface (`matplotlib.pyplot.figure`) are retained until explicitly closed and may consume too much memory. (To control this warning, see the rcParam `figure.max_open_warning`).\n",
            "  fig,ax = plt.subplots(1,1,figsize=(3,3))\n",
            "<ipython-input-137-6e6a07b66bcb>:101: RuntimeWarning: More than 20 figures have been opened. Figures created through the pyplot interface (`matplotlib.pyplot.figure`) are retained until explicitly closed and may consume too much memory. (To control this warning, see the rcParam `figure.max_open_warning`).\n",
            "  fig,ax = plt.subplots(1,1,figsize=(3,3))\n",
            "<ipython-input-137-6e6a07b66bcb>:101: RuntimeWarning: More than 20 figures have been opened. Figures created through the pyplot interface (`matplotlib.pyplot.figure`) are retained until explicitly closed and may consume too much memory. (To control this warning, see the rcParam `figure.max_open_warning`).\n",
            "  fig,ax = plt.subplots(1,1,figsize=(3,3))\n",
            "<ipython-input-137-6e6a07b66bcb>:101: RuntimeWarning: More than 20 figures have been opened. Figures created through the pyplot interface (`matplotlib.pyplot.figure`) are retained until explicitly closed and may consume too much memory. (To control this warning, see the rcParam `figure.max_open_warning`).\n",
            "  fig,ax = plt.subplots(1,1,figsize=(3,3))\n",
            "<ipython-input-137-6e6a07b66bcb>:101: RuntimeWarning: More than 20 figures have been opened. Figures created through the pyplot interface (`matplotlib.pyplot.figure`) are retained until explicitly closed and may consume too much memory. (To control this warning, see the rcParam `figure.max_open_warning`).\n",
            "  fig,ax = plt.subplots(1,1,figsize=(3,3))\n",
            "<ipython-input-137-6e6a07b66bcb>:101: RuntimeWarning: More than 20 figures have been opened. Figures created through the pyplot interface (`matplotlib.pyplot.figure`) are retained until explicitly closed and may consume too much memory. (To control this warning, see the rcParam `figure.max_open_warning`).\n",
            "  fig,ax = plt.subplots(1,1,figsize=(3,3))\n",
            "<ipython-input-137-6e6a07b66bcb>:101: RuntimeWarning: More than 20 figures have been opened. Figures created through the pyplot interface (`matplotlib.pyplot.figure`) are retained until explicitly closed and may consume too much memory. (To control this warning, see the rcParam `figure.max_open_warning`).\n",
            "  fig,ax = plt.subplots(1,1,figsize=(3,3))\n",
            "<ipython-input-137-6e6a07b66bcb>:101: RuntimeWarning: More than 20 figures have been opened. Figures created through the pyplot interface (`matplotlib.pyplot.figure`) are retained until explicitly closed and may consume too much memory. (To control this warning, see the rcParam `figure.max_open_warning`).\n",
            "  fig,ax = plt.subplots(1,1,figsize=(3,3))\n",
            "<ipython-input-137-6e6a07b66bcb>:101: RuntimeWarning: More than 20 figures have been opened. Figures created through the pyplot interface (`matplotlib.pyplot.figure`) are retained until explicitly closed and may consume too much memory. (To control this warning, see the rcParam `figure.max_open_warning`).\n",
            "  fig,ax = plt.subplots(1,1,figsize=(3,3))\n",
            "<ipython-input-137-6e6a07b66bcb>:101: RuntimeWarning: More than 20 figures have been opened. Figures created through the pyplot interface (`matplotlib.pyplot.figure`) are retained until explicitly closed and may consume too much memory. (To control this warning, see the rcParam `figure.max_open_warning`).\n",
            "  fig,ax = plt.subplots(1,1,figsize=(3,3))\n",
            "<ipython-input-137-6e6a07b66bcb>:101: RuntimeWarning: More than 20 figures have been opened. Figures created through the pyplot interface (`matplotlib.pyplot.figure`) are retained until explicitly closed and may consume too much memory. (To control this warning, see the rcParam `figure.max_open_warning`).\n",
            "  fig,ax = plt.subplots(1,1,figsize=(3,3))\n",
            "<ipython-input-137-6e6a07b66bcb>:101: RuntimeWarning: More than 20 figures have been opened. Figures created through the pyplot interface (`matplotlib.pyplot.figure`) are retained until explicitly closed and may consume too much memory. (To control this warning, see the rcParam `figure.max_open_warning`).\n",
            "  fig,ax = plt.subplots(1,1,figsize=(3,3))\n",
            "<ipython-input-137-6e6a07b66bcb>:101: RuntimeWarning: More than 20 figures have been opened. Figures created through the pyplot interface (`matplotlib.pyplot.figure`) are retained until explicitly closed and may consume too much memory. (To control this warning, see the rcParam `figure.max_open_warning`).\n",
            "  fig,ax = plt.subplots(1,1,figsize=(3,3))\n",
            "<ipython-input-137-6e6a07b66bcb>:101: RuntimeWarning: More than 20 figures have been opened. Figures created through the pyplot interface (`matplotlib.pyplot.figure`) are retained until explicitly closed and may consume too much memory. (To control this warning, see the rcParam `figure.max_open_warning`).\n",
            "  fig,ax = plt.subplots(1,1,figsize=(3,3))\n",
            "<ipython-input-137-6e6a07b66bcb>:101: RuntimeWarning: More than 20 figures have been opened. Figures created through the pyplot interface (`matplotlib.pyplot.figure`) are retained until explicitly closed and may consume too much memory. (To control this warning, see the rcParam `figure.max_open_warning`).\n",
            "  fig,ax = plt.subplots(1,1,figsize=(3,3))\n",
            "<ipython-input-137-6e6a07b66bcb>:101: RuntimeWarning: More than 20 figures have been opened. Figures created through the pyplot interface (`matplotlib.pyplot.figure`) are retained until explicitly closed and may consume too much memory. (To control this warning, see the rcParam `figure.max_open_warning`).\n",
            "  fig,ax = plt.subplots(1,1,figsize=(3,3))\n",
            "<ipython-input-137-6e6a07b66bcb>:101: RuntimeWarning: More than 20 figures have been opened. Figures created through the pyplot interface (`matplotlib.pyplot.figure`) are retained until explicitly closed and may consume too much memory. (To control this warning, see the rcParam `figure.max_open_warning`).\n",
            "  fig,ax = plt.subplots(1,1,figsize=(3,3))\n",
            "<ipython-input-137-6e6a07b66bcb>:101: RuntimeWarning: More than 20 figures have been opened. Figures created through the pyplot interface (`matplotlib.pyplot.figure`) are retained until explicitly closed and may consume too much memory. (To control this warning, see the rcParam `figure.max_open_warning`).\n",
            "  fig,ax = plt.subplots(1,1,figsize=(3,3))\n",
            "<ipython-input-137-6e6a07b66bcb>:101: RuntimeWarning: More than 20 figures have been opened. Figures created through the pyplot interface (`matplotlib.pyplot.figure`) are retained until explicitly closed and may consume too much memory. (To control this warning, see the rcParam `figure.max_open_warning`).\n",
            "  fig,ax = plt.subplots(1,1,figsize=(3,3))\n",
            "<ipython-input-137-6e6a07b66bcb>:101: RuntimeWarning: More than 20 figures have been opened. Figures created through the pyplot interface (`matplotlib.pyplot.figure`) are retained until explicitly closed and may consume too much memory. (To control this warning, see the rcParam `figure.max_open_warning`).\n",
            "  fig,ax = plt.subplots(1,1,figsize=(3,3))\n",
            "<ipython-input-137-6e6a07b66bcb>:101: RuntimeWarning: More than 20 figures have been opened. Figures created through the pyplot interface (`matplotlib.pyplot.figure`) are retained until explicitly closed and may consume too much memory. (To control this warning, see the rcParam `figure.max_open_warning`).\n",
            "  fig,ax = plt.subplots(1,1,figsize=(3,3))\n",
            "<ipython-input-137-6e6a07b66bcb>:101: RuntimeWarning: More than 20 figures have been opened. Figures created through the pyplot interface (`matplotlib.pyplot.figure`) are retained until explicitly closed and may consume too much memory. (To control this warning, see the rcParam `figure.max_open_warning`).\n",
            "  fig,ax = plt.subplots(1,1,figsize=(3,3))\n",
            "<ipython-input-137-6e6a07b66bcb>:101: RuntimeWarning: More than 20 figures have been opened. Figures created through the pyplot interface (`matplotlib.pyplot.figure`) are retained until explicitly closed and may consume too much memory. (To control this warning, see the rcParam `figure.max_open_warning`).\n",
            "  fig,ax = plt.subplots(1,1,figsize=(3,3))\n",
            "<ipython-input-137-6e6a07b66bcb>:101: RuntimeWarning: More than 20 figures have been opened. Figures created through the pyplot interface (`matplotlib.pyplot.figure`) are retained until explicitly closed and may consume too much memory. (To control this warning, see the rcParam `figure.max_open_warning`).\n",
            "  fig,ax = plt.subplots(1,1,figsize=(3,3))\n",
            "<ipython-input-137-6e6a07b66bcb>:101: RuntimeWarning: More than 20 figures have been opened. Figures created through the pyplot interface (`matplotlib.pyplot.figure`) are retained until explicitly closed and may consume too much memory. (To control this warning, see the rcParam `figure.max_open_warning`).\n",
            "  fig,ax = plt.subplots(1,1,figsize=(3,3))\n",
            "<ipython-input-137-6e6a07b66bcb>:101: RuntimeWarning: More than 20 figures have been opened. Figures created through the pyplot interface (`matplotlib.pyplot.figure`) are retained until explicitly closed and may consume too much memory. (To control this warning, see the rcParam `figure.max_open_warning`).\n",
            "  fig,ax = plt.subplots(1,1,figsize=(3,3))\n",
            "<ipython-input-137-6e6a07b66bcb>:101: RuntimeWarning: More than 20 figures have been opened. Figures created through the pyplot interface (`matplotlib.pyplot.figure`) are retained until explicitly closed and may consume too much memory. (To control this warning, see the rcParam `figure.max_open_warning`).\n",
            "  fig,ax = plt.subplots(1,1,figsize=(3,3))\n",
            "<ipython-input-137-6e6a07b66bcb>:101: RuntimeWarning: More than 20 figures have been opened. Figures created through the pyplot interface (`matplotlib.pyplot.figure`) are retained until explicitly closed and may consume too much memory. (To control this warning, see the rcParam `figure.max_open_warning`).\n",
            "  fig,ax = plt.subplots(1,1,figsize=(3,3))\n",
            "<ipython-input-137-6e6a07b66bcb>:101: RuntimeWarning: More than 20 figures have been opened. Figures created through the pyplot interface (`matplotlib.pyplot.figure`) are retained until explicitly closed and may consume too much memory. (To control this warning, see the rcParam `figure.max_open_warning`).\n",
            "  fig,ax = plt.subplots(1,1,figsize=(3,3))\n",
            "<ipython-input-137-6e6a07b66bcb>:101: RuntimeWarning: More than 20 figures have been opened. Figures created through the pyplot interface (`matplotlib.pyplot.figure`) are retained until explicitly closed and may consume too much memory. (To control this warning, see the rcParam `figure.max_open_warning`).\n",
            "  fig,ax = plt.subplots(1,1,figsize=(3,3))\n",
            "<ipython-input-137-6e6a07b66bcb>:101: RuntimeWarning: More than 20 figures have been opened. Figures created through the pyplot interface (`matplotlib.pyplot.figure`) are retained until explicitly closed and may consume too much memory. (To control this warning, see the rcParam `figure.max_open_warning`).\n",
            "  fig,ax = plt.subplots(1,1,figsize=(3,3))\n",
            "<ipython-input-137-6e6a07b66bcb>:101: RuntimeWarning: More than 20 figures have been opened. Figures created through the pyplot interface (`matplotlib.pyplot.figure`) are retained until explicitly closed and may consume too much memory. (To control this warning, see the rcParam `figure.max_open_warning`).\n",
            "  fig,ax = plt.subplots(1,1,figsize=(3,3))\n",
            "<ipython-input-137-6e6a07b66bcb>:101: RuntimeWarning: More than 20 figures have been opened. Figures created through the pyplot interface (`matplotlib.pyplot.figure`) are retained until explicitly closed and may consume too much memory. (To control this warning, see the rcParam `figure.max_open_warning`).\n",
            "  fig,ax = plt.subplots(1,1,figsize=(3,3))\n",
            "<ipython-input-137-6e6a07b66bcb>:101: RuntimeWarning: More than 20 figures have been opened. Figures created through the pyplot interface (`matplotlib.pyplot.figure`) are retained until explicitly closed and may consume too much memory. (To control this warning, see the rcParam `figure.max_open_warning`).\n",
            "  fig,ax = plt.subplots(1,1,figsize=(3,3))\n",
            "<ipython-input-137-6e6a07b66bcb>:101: RuntimeWarning: More than 20 figures have been opened. Figures created through the pyplot interface (`matplotlib.pyplot.figure`) are retained until explicitly closed and may consume too much memory. (To control this warning, see the rcParam `figure.max_open_warning`).\n",
            "  fig,ax = plt.subplots(1,1,figsize=(3,3))\n",
            "<ipython-input-137-6e6a07b66bcb>:101: RuntimeWarning: More than 20 figures have been opened. Figures created through the pyplot interface (`matplotlib.pyplot.figure`) are retained until explicitly closed and may consume too much memory. (To control this warning, see the rcParam `figure.max_open_warning`).\n",
            "  fig,ax = plt.subplots(1,1,figsize=(3,3))\n"
          ]
        },
        {
          "output_type": "execute_result",
          "data": {
            "text/plain": [
              "'\\n\\n\\n\\'\\'\\' fine-tune wake-sleep training \\'\\'\\'\\n\\ndbn.train_wakesleep_finetune(vis_trainset=train_imgs, lbl_trainset=train_lbls, n_iterations=10000)\\n\\ndbn.recognize(train_imgs, train_lbls)\\n\\ndbn.recognize(test_imgs, test_lbls)\\n\\nfor digit in range(10):\\n    digit_1hot = np.zeros(shape=(1,10))\\n    digit_1hot[0,digit] = 1\\n    dbn.generate(digit_1hot, name=\"dbn\")\\n'"
            ],
            "application/vnd.google.colaboratory.intrinsic+json": {
              "type": "string"
            }
          },
          "metadata": {},
          "execution_count": 148
        },
        {
          "output_type": "display_data",
          "data": {
            "text/plain": [
              "<Figure size 216x216 with 1 Axes>"
            ],
            "image/png": "[encoded data removed]"
          },
          "metadata": {}
        },
        {
          "output_type": "display_data",
          "data": {
            "text/plain": [
              "<Figure size 216x216 with 1 Axes>"
            ],
            "image/png": "[encoded data removed]"
          },
          "metadata": {}
        },
        {
          "output_type": "display_data",
          "data": {
            "text/plain": [
              "<Figure size 216x216 with 1 Axes>"
            ],
            "image/png": "[encoded data removed]"
          },
          "metadata": {}
        },
        {
          "output_type": "display_data",
          "data": {
            "text/plain": [
              "<Figure size 216x216 with 1 Axes>"
            ],
            "image/png": "[encoded data removed]"
          },
          "metadata": {}
        },
        {
          "output_type": "display_data",
          "data": {
            "text/plain": [
              "<Figure size 216x216 with 1 Axes>"
            ],
            "image/png": "[encoded data removed]"
          },
          "metadata": {}
        },
        {
          "output_type": "display_data",
          "data": {
            "text/plain": [
              "<Figure size 216x216 with 1 Axes>"
            ],
            "image/png": "[encoded data removed]"
          },
          "metadata": {}
        },
        {
          "output_type": "display_data",
          "data": {
            "text/plain": [
              "<Figure size 216x216 with 1 Axes>"
            ],
            "image/png": "[encoded data removed]"
          },
          "metadata": {}
        },
        {
          "output_type": "display_data",
          "data": {
            "text/plain": [
              "<Figure size 216x216 with 1 Axes>"
            ],
            "image/png": "[encoded data removed]"
          },
          "metadata": {}
        },
        {
          "output_type": "display_data",
          "data": {
            "text/plain": [
              "<Figure size 216x216 with 1 Axes>"
            ],
            "image/png": "[encoded data removed]"
          },
          "metadata": {}
        },
        {
          "output_type": "display_data",
          "data": {
            "text/plain": [
              "<Figure size 216x216 with 1 Axes>"
            ],
            "image/png": "[encoded data removed]"
          },
          "metadata": {}
        },
        {
          "output_type": "display_data",
          "data": {
            "text/plain": [
              "<Figure size 216x216 with 1 Axes>"
            ],
            "image/png": "[encoded data removed]"
          },
          "metadata": {}
        },
        {
          "output_type": "display_data",
          "data": {
            "text/plain": [
              "<Figure size 216x216 with 1 Axes>"
            ],
            "image/png": "[encoded data removed]"
          },
          "metadata": {}
        },
        {
          "output_type": "display_data",
          "data": {
            "text/plain": [
              "<Figure size 216x216 with 1 Axes>"
            ],
            "image/png": "[encoded data removed]"
          },
          "metadata": {}
        },
        {
          "output_type": "display_data",
          "data": {
            "text/plain": [
              "<Figure size 216x216 with 1 Axes>"
            ],
            "image/png": "[encoded data removed]"
          },
          "metadata": {}
        },
        {
          "output_type": "display_data",
          "data": {
            "text/plain": [
              "<Figure size 216x216 with 1 Axes>"
            ],
            "image/png": "[encoded data removed]"
          },
          "metadata": {}
        },
        {
          "output_type": "display_data",
          "data": {
            "text/plain": [
              "<Figure size 216x216 with 1 Axes>"
            ],
            "image/png": "[encoded data removed]"
          },
          "metadata": {}
        },
        {
          "output_type": "display_data",
          "data": {
            "text/plain": [
              "<Figure size 216x216 with 1 Axes>"
            ],
            "image/png": "[encoded data removed]"
          },
          "metadata": {}
        },
        {
          "output_type": "display_data",
          "data": {
            "text/plain": [
              "<Figure size 216x216 with 1 Axes>"
            ],
            "image/png": "[encoded data removed]"
          },
          "metadata": {}
        },
        {
          "output_type": "display_data",
          "data": {
            "text/plain": [
              "<Figure size 216x216 with 1 Axes>"
            ],
            "image/png": "[encoded data removed]"
          },
          "metadata": {}
        },
        {
          "output_type": "display_data",
          "data": {
            "text/plain": [
              "<Figure size 216x216 with 1 Axes>"
            ],
            "image/png": "[encoded data removed]"
          },
          "metadata": {}
        },
        {
          "output_type": "display_data",
          "data": {
            "text/plain": [
              "<Figure size 216x216 with 1 Axes>"
            ],
            "image/png": "[encoded data removed]"
          },
          "metadata": {}
        },
        {
          "output_type": "display_data",
          "data": {
            "text/plain": [
              "<Figure size 216x216 with 1 Axes>"
            ],
            "image/png": "[encoded data removed]"
          },
          "metadata": {}
        },
        {
          "output_type": "display_data",
          "data": {
            "text/plain": [
              "<Figure size 216x216 with 1 Axes>"
            ],
            "image/png": "[encoded data removed]"
          },
          "metadata": {}
        },
        {
          "output_type": "display_data",
          "data": {
            "text/plain": [
              "<Figure size 216x216 with 1 Axes>"
            ],
            "image/png": "[encoded data removed]"
          },
          "metadata": {}
        },
        {
          "output_type": "display_data",
          "data": {
            "text/plain": [
              "<Figure size 216x216 with 1 Axes>"
            ],
            "image/png": "[encoded data removed]"
          },
          "metadata": {}
        },
        {
          "output_type": "display_data",
          "data": {
            "text/plain": [
              "<Figure size 216x216 with 1 Axes>"
            ],
            "image/png": "[encoded data removed]"
          },
          "metadata": {}
        },
        {
          "output_type": "display_data",
          "data": {
            "text/plain": [
              "<Figure size 216x216 with 1 Axes>"
            ],
            "image/png": "[encoded data removed]"
          },
          "metadata": {}
        },
        {
          "output_type": "display_data",
          "data": {
            "text/plain": [
              "<Figure size 216x216 with 1 Axes>"
            ],
            "image/png": "[encoded data removed]"
          },
          "metadata": {}
        },
        {
          "output_type": "display_data",
          "data": {
            "text/plain": [
              "<Figure size 216x216 with 1 Axes>"
            ],
            "image/png": "[encoded data removed]"
          },
          "metadata": {}
        },
        {
          "output_type": "display_data",
          "data": {
            "text/plain": [
              "<Figure size 216x216 with 1 Axes>"
            ],
            "image/png": "[encoded data removed]"
          },
          "metadata": {}
        },
        {
          "output_type": "display_data",
          "data": {
            "text/plain": [
              "<Figure size 216x216 with 1 Axes>"
            ],
            "image/png": "[encoded data removed]"
          },
          "metadata": {}
        },
        {
          "output_type": "display_data",
          "data": {
            "text/plain": [
              "<Figure size 216x216 with 1 Axes>"
            ],
            "image/png": "[encoded data removed]"
          },
          "metadata": {}
        },
        {
          "output_type": "display_data",
          "data": {
            "text/plain": [
              "<Figure size 216x216 with 1 Axes>"
            ],
            "image/png": "[encoded data removed]"
          },
          "metadata": {}
        },
        {
          "output_type": "display_data",
          "data": {
            "text/plain": [
              "<Figure size 216x216 with 1 Axes>"
            ],
            "image/png": "[encoded data removed]"
          },
          "metadata": {}
        },
        {
          "output_type": "display_data",
          "data": {
            "text/plain": [
              "<Figure size 216x216 with 1 Axes>"
            ],
            "image/png": "[encoded data removed]"
          },
          "metadata": {}
        },
        {
          "output_type": "display_data",
          "data": {
            "text/plain": [
              "<Figure size 216x216 with 1 Axes>"
            ],
            "image/png": "[encoded data removed]"
          },
          "metadata": {}
        },
        {
          "output_type": "display_data",
          "data": {
            "text/plain": [
              "<Figure size 216x216 with 1 Axes>"
            ],
            "image/png": "[encoded data removed]"
          },
          "metadata": {}
        },
        {
          "output_type": "display_data",
          "data": {
            "text/plain": [
              "<Figure size 216x216 with 1 Axes>"
            ],
            "image/png": "[encoded data removed]"
          },
          "metadata": {}
        },
        {
          "output_type": "display_data",
          "data": {
            "text/plain": [
              "<Figure size 216x216 with 1 Axes>"
            ],
            "image/png": "[encoded data removed]"
          },
          "metadata": {}
        },
        {
          "output_type": "display_data",
          "data": {
            "text/plain": [
              "<Figure size 216x216 with 1 Axes>"
            ],
            "image/png": "[encoded data removed]"
          },
          "metadata": {}
        },
        {
          "output_type": "display_data",
          "data": {
            "text/plain": [
              "<Figure size 216x216 with 1 Axes>"
            ],
            "image/png": "[encoded data removed]"
          },
          "metadata": {}
        },
        {
          "output_type": "display_data",
          "data": {
            "text/plain": [
              "<Figure size 216x216 with 1 Axes>"
            ],
            "image/png": "[encoded data removed]"
          },
          "metadata": {}
        },
        {
          "output_type": "display_data",
          "data": {
            "text/plain": [
              "<Figure size 216x216 with 1 Axes>"
            ],
            "image/png": "[encoded data removed]"
          },
          "metadata": {}
        },
        {
          "output_type": "display_data",
          "data": {
            "text/plain": [
              "<Figure size 216x216 with 1 Axes>"
            ],
            "image/png": "[encoded data removed]"
          },
          "metadata": {}
        },
        {
          "output_type": "display_data",
          "data": {
            "text/plain": [
              "<Figure size 216x216 with 1 Axes>"
            ],
            "image/png": "[encoded data removed]"
          },
          "metadata": {}
        },
        {
          "output_type": "display_data",
          "data": {
            "text/plain": [
              "<Figure size 216x216 with 1 Axes>"
            ],
            "image/png": "[encoded data removed]"
          },
          "metadata": {}
        },
        {
          "output_type": "display_data",
          "data": {
            "text/plain": [
              "<Figure size 216x216 with 1 Axes>"
            ],
            "image/png": "[encoded data removed]"
          },
          "metadata": {}
        },
        {
          "output_type": "display_data",
          "data": {
            "text/plain": [
              "<Figure size 216x216 with 1 Axes>"
            ],
            "image/png": "[encoded data removed]"
          },
          "metadata": {}
        },
        {
          "output_type": "display_data",
          "data": {
            "text/plain": [
              "<Figure size 216x216 with 1 Axes>"
            ],
            "image/png": "[encoded data removed]"
          },
          "metadata": {}
        },
        {
          "output_type": "display_data",
          "data": {
            "text/plain": [
              "<Figure size 216x216 with 1 Axes>"
            ],
            "image/png": "[encoded data removed]"
          },
          "metadata": {}
        },
        {
          "output_type": "display_data",
          "data": {
            "text/plain": [
              "<Figure size 216x216 with 1 Axes>"
            ],
            "image/png": "[encoded data removed]"
          },
          "metadata": {}
        },
        {
          "output_type": "display_data",
          "data": {
            "text/plain": [
              "<Figure size 216x216 with 1 Axes>"
            ],
            "image/png": "[encoded data removed]"
          },
          "metadata": {}
        },
        {
          "output_type": "display_data",
          "data": {
            "text/plain": [
              "<Figure size 216x216 with 1 Axes>"
            ],
            "image/png": "[encoded data removed]"
          },
          "metadata": {}
        },
        {
          "output_type": "display_data",
          "data": {
            "text/plain": [
              "<Figure size 216x216 with 1 Axes>"
            ],
            "image/png": "[encoded data removed]"
          },
          "metadata": {}
        },
        {
          "output_type": "display_data",
          "data": {
            "text/plain": [
              "<Figure size 216x216 with 1 Axes>"
            ],
            "image/png": "[encoded data removed]"
          },
          "metadata": {}
        },
        {
          "output_type": "display_data",
          "data": {
            "text/plain": [
              "<Figure size 216x216 with 1 Axes>"
            ],
            "image/png": "[encoded data removed]"
          },
          "metadata": {}
        },
        {
          "output_type": "display_data",
          "data": {
            "text/plain": [
              "<Figure size 216x216 with 1 Axes>"
            ],
            "image/png": "[encoded data removed]"
          },
          "metadata": {}
        },
        {
          "output_type": "display_data",
          "data": {
            "text/plain": [
              "<Figure size 216x216 with 1 Axes>"
            ],
            "image/png": "[encoded data removed]"
          },
          "metadata": {}
        },
        {
          "output_type": "display_data",
          "data": {
            "text/plain": [
              "<Figure size 216x216 with 1 Axes>"
            ],
            "image/png": "[encoded data removed]"
          },
          "metadata": {}
        },
        {
          "output_type": "display_data",
          "data": {
            "text/plain": [
              "<Figure size 216x216 with 1 Axes>"
            ],
            "image/png": "[encoded data removed]"
          },
          "metadata": {}
        },
        {
          "output_type": "display_data",
          "data": {
            "text/plain": [
              "<Figure size 216x216 with 1 Axes>"
            ],
            "image/png": "[encoded data removed]"
          },
          "metadata": {}
        },
        {
          "output_type": "display_data",
          "data": {
            "text/plain": [
              "<Figure size 216x216 with 1 Axes>"
            ],
            "image/png": "[encoded data removed]"
          },
          "metadata": {}
        },
        {
          "output_type": "display_data",
          "data": {
            "text/plain": [
              "<Figure size 216x216 with 1 Axes>"
            ],
            "image/png": "[encoded data removed]"
          },
          "metadata": {}
        },
        {
          "output_type": "display_data",
          "data": {
            "text/plain": [
              "<Figure size 216x216 with 1 Axes>"
            ],
            "image/png": "[encoded data removed]"
          },
          "metadata": {}
        },
        {
          "output_type": "display_data",
          "data": {
            "text/plain": [
              "<Figure size 216x216 with 1 Axes>"
            ],
            "image/png": "[encoded data removed]"
          },
          "metadata": {}
        },
        {
          "output_type": "display_data",
          "data": {
            "text/plain": [
              "<Figure size 216x216 with 1 Axes>"
            ],
            "image/png": "[encoded data removed]"
          },
          "metadata": {}
        },
        {
          "output_type": "display_data",
          "data": {
            "text/plain": [
              "<Figure size 216x216 with 1 Axes>"
            ],
            "image/png": "[encoded data removed]"
          },
          "metadata": {}
        },
        {
          "output_type": "display_data",
          "data": {
            "text/plain": [
              "<Figure size 216x216 with 1 Axes>"
            ],
            "image/png": "[encoded data removed]"
          },
          "metadata": {}
        },
        {
          "output_type": "display_data",
          "data": {
            "text/plain": [
              "<Figure size 216x216 with 1 Axes>"
            ],
            "image/png": "[encoded data removed]"
          },
          "metadata": {}
        },
        {
          "output_type": "display_data",
          "data": {
            "text/plain": [
              "<Figure size 216x216 with 1 Axes>"
            ],
            "image/png": "[encoded data removed]"
          },
          "metadata": {}
        },
        {
          "output_type": "display_data",
          "data": {
            "text/plain": [
              "<Figure size 216x216 with 1 Axes>"
            ],
            "image/png": "[encoded data removed]"
          },
          "metadata": {}
        },
        {
          "output_type": "display_data",
          "data": {
            "text/plain": [
              "<Figure size 216x216 with 1 Axes>"
            ],
            "image/png": "[encoded data removed]"
          },
          "metadata": {}
        },
        {
          "output_type": "display_data",
          "data": {
            "text/plain": [
              "<Figure size 216x216 with 1 Axes>"
            ],
            "image/png": "[encoded data removed]"
          },
          "metadata": {}
        },
        {
          "output_type": "display_data",
          "data": {
            "text/plain": [
              "<Figure size 216x216 with 1 Axes>"
            ],
            "image/png": "[encoded data removed]"
          },
          "metadata": {}
        },
        {
          "output_type": "display_data",
          "data": {
            "text/plain": [
              "<Figure size 216x216 with 1 Axes>"
            ],
            "image/png": "[encoded data removed]"
          },
          "metadata": {}
        },
        {
          "output_type": "display_data",
          "data": {
            "text/plain": [
              "<Figure size 216x216 with 1 Axes>"
            ],
            "image/png": "[encoded data removed]"
          },
          "metadata": {}
        },
        {
          "output_type": "display_data",
          "data": {
            "text/plain": [
              "<Figure size 216x216 with 1 Axes>"
            ],
            "image/png": "[encoded data removed]"
          },
          "metadata": {}
        },
        {
          "output_type": "display_data",
          "data": {
            "text/plain": [
              "<Figure size 216x216 with 1 Axes>"
            ],
            "image/png": "[encoded data removed]"
          },
          "metadata": {}
        },
        {
          "output_type": "display_data",
          "data": {
            "text/plain": [
              "<Figure size 216x216 with 1 Axes>"
            ],
            "image/png": "[encoded data removed]"
          },
          "metadata": {}
        },
        {
          "output_type": "display_data",
          "data": {
            "text/plain": [
              "<Figure size 216x216 with 1 Axes>"
            ],
            "image/png": "[encoded data removed]"
          },
          "metadata": {}
        },
        {
          "output_type": "display_data",
          "data": {
            "text/plain": [
              "<Figure size 216x216 with 1 Axes>"
            ],
            "image/png": "[encoded data removed]"
          },
          "metadata": {}
        },
        {
          "output_type": "display_data",
          "data": {
            "text/plain": [
              "<Figure size 216x216 with 1 Axes>"
            ],
            "image/png": "[encoded data removed]"
          },
          "metadata": {}
        },
        {
          "output_type": "display_data",
          "data": {
            "text/plain": [
              "<Figure size 216x216 with 1 Axes>"
            ],
            "image/png": "[encoded data removed]"
          },
          "metadata": {}
        },
        {
          "output_type": "display_data",
          "data": {
            "text/plain": [
              "<Figure size 216x216 with 1 Axes>"
            ],
            "image/png": "[encoded data removed]"
          },
          "metadata": {}
        },
        {
          "output_type": "display_data",
          "data": {
            "text/plain": [
              "<Figure size 216x216 with 1 Axes>"
            ],
            "image/png": "[encoded data removed]"
          },
          "metadata": {}
        },
        {
          "output_type": "display_data",
          "data": {
            "text/plain": [
              "<Figure size 216x216 with 1 Axes>"
            ],
            "image/png": "[encoded data removed]"
          },
          "metadata": {}
        },
        {
          "output_type": "display_data",
          "data": {
            "text/plain": [
              "<Figure size 216x216 with 1 Axes>"
            ],
            "image/png": "[encoded data removed]"
          },
          "metadata": {}
        },
        {
          "output_type": "display_data",
          "data": {
            "text/plain": [
              "<Figure size 216x216 with 1 Axes>"
            ],
            "image/png": "[encoded data removed]"
          },
          "metadata": {}
        },
        {
          "output_type": "display_data",
          "data": {
            "text/plain": [
              "<Figure size 216x216 with 1 Axes>"
            ],
            "image/png": "[encoded data removed]"
          },
          "metadata": {}
        },
        {
          "output_type": "display_data",
          "data": {
            "text/plain": [
              "<Figure size 216x216 with 1 Axes>"
            ],
            "image/png": "[encoded data removed]"
          },
          "metadata": {}
        },
        {
          "output_type": "display_data",
          "data": {
            "text/plain": [
              "<Figure size 216x216 with 1 Axes>"
            ],
            "image/png": "[encoded data removed]"
          },
          "metadata": {}
        },
        {
          "output_type": "display_data",
          "data": {
            "text/plain": [
              "<Figure size 216x216 with 1 Axes>"
            ],
            "image/png": "[encoded data removed]"
          },
          "metadata": {}
        },
        {
          "output_type": "display_data",
          "data": {
            "text/plain": [
              "<Figure size 216x216 with 1 Axes>"
            ],
            "image/png": "[encoded data removed]"
          },
          "metadata": {}
        },
        {
          "output_type": "display_data",
          "data": {
            "text/plain": [
              "<Figure size 216x216 with 1 Axes>"
            ],
            "image/png": "[encoded data removed]"
          },
          "metadata": {}
        },
        {
          "output_type": "display_data",
          "data": {
            "text/plain": [
              "<Figure size 216x216 with 1 Axes>"
            ],
            "image/png": "[encoded data removed]"
          },
          "metadata": {}
        },
        {
          "output_type": "display_data",
          "data": {
            "text/plain": [
              "<Figure size 216x216 with 1 Axes>"
            ],
            "image/png": "[encoded data removed]"
          },
          "metadata": {}
        },
        {
          "output_type": "display_data",
          "data": {
            "text/plain": [
              "<Figure size 216x216 with 1 Axes>"
            ],
            "image/png": "[encoded data removed]"
          },
          "metadata": {}
        },
        {
          "output_type": "display_data",
          "data": {
            "text/plain": [
              "<Figure size 216x216 with 1 Axes>"
            ],
            "image/png": "[encoded data removed]"
          },
          "metadata": {}
        },
        {
          "output_type": "display_data",
          "data": {
            "text/plain": [
              "<Figure size 216x216 with 1 Axes>"
            ],
            "image/png": "[encoded data removed]"
          },
          "metadata": {}
        },
        {
          "output_type": "display_data",
          "data": {
            "text/plain": [
              "<Figure size 216x216 with 1 Axes>"
            ],
            "image/png": "[encoded data removed]"
          },
          "metadata": {}
        }
      ]
    },
    {
      "cell_type": "code",
      "source": [
        "fig = plt.figure(figsize=(10, 10))\n",
        "rows = 10\n",
        "columns = 10\n",
        "for k in range(len(im)):\n",
        "  fig.add_subplot(rows, columns, k+1)\n",
        "  vis=im[k]\n",
        "  plt.axis('off')\n",
        "  plt.imshow(vis.reshape(image_size), cmap=\"bwr\", vmin=0, vmax=1, animated=True, interpolation=None)"
      ],
      "metadata": {
        "colab": {
          "base_uri": "https://localhost:8080/",
          "height": 574
        },
        "id": "FJnpzQsn_Qay",
        "outputId": "d73d6858-978d-444b-f37b-52c993c8eab1"
      },
      "execution_count": null,
      "outputs": [
        {
          "output_type": "display_data",
          "data": {
            "text/plain": [
              "<Figure size 720x720 with 100 Axes>"
            ],
            "image/png": "[encoded data removed]"
          },
          "metadata": {
            "needs_background": "light"
          }
        }
      ]
    },
    {
      "cell_type": "code",
      "source": [
        "for i in range(10):\n",
        "    visualize_recontructions(test_imgs, i)"
      ],
      "metadata": {
        "colab": {
          "base_uri": "https://localhost:8080/",
          "height": 1000
        },
        "id": "wCYYs6DT2kmM",
        "outputId": "823c7b28-9883-47a1-f9c5-f8540260bee1"
      },
      "execution_count": null,
      "outputs": [
        {
          "output_type": "display_data",
          "data": {
            "text/plain": [
              "<Figure size 432x288 with 1 Axes>"
            ],
            "image/png": "[encoded data removed]"
          },
          "metadata": {
            "needs_background": "light"
          }
        },
        {
          "output_type": "display_data",
          "data": {
            "text/plain": [
              "<Figure size 432x288 with 1 Axes>"
            ],
            "image/png": "[encoded data removed]"
          },
          "metadata": {
            "needs_background": "light"
          }
        },
        {
          "output_type": "display_data",
          "data": {
            "text/plain": [
              "<Figure size 432x288 with 1 Axes>"
            ],
            "image/png": "[encoded data removed]"
          },
          "metadata": {
            "needs_background": "light"
          }
        },
        {
          "output_type": "display_data",
          "data": {
            "text/plain": [
              "<Figure size 432x288 with 1 Axes>"
            ],
            "image/png": "[encoded data removed]"
          },
          "metadata": {
            "needs_background": "light"
          }
        },
        {
          "output_type": "display_data",
          "data": {
            "text/plain": [
              "<Figure size 432x288 with 1 Axes>"
            ],
            "image/png": "[encoded data removed]"
          },
          "metadata": {
            "needs_background": "light"
          }
        },
        {
          "output_type": "display_data",
          "data": {
            "text/plain": [
              "<Figure size 432x288 with 1 Axes>"
            ],
            "image/png": "[encoded data removed]"
          },
          "metadata": {
            "needs_background": "light"
          }
        },
        {
          "output_type": "display_data",
          "data": {
            "text/plain": [
              "<Figure size 432x288 with 1 Axes>"
            ],
            "image/png": "[encoded data removed]"
          },
          "metadata": {
            "needs_background": "light"
          }
        },
        {
          "output_type": "display_data",
          "data": {
            "text/plain": [
              "<Figure size 432x288 with 1 Axes>"
            ],
            "image/png": "[encoded data removed]"
          },
          "metadata": {
            "needs_background": "light"
          }
        },
        {
          "output_type": "display_data",
          "data": {
            "text/plain": [
              "<Figure size 432x288 with 1 Axes>"
            ],
            "image/png": "[encoded data removed]"
          },
          "metadata": {
            "needs_background": "light"
          }
        },
        {
          "output_type": "display_data",
          "data": {
            "text/plain": [
              "<Figure size 432x288 with 1 Axes>"
            ],
            "image/png": "[encoded data removed]"
          },
          "metadata": {
            "needs_background": "light"
          }
        },
        {
          "output_type": "display_data",
          "data": {
            "text/plain": [
              "<Figure size 432x288 with 1 Axes>"
            ],
            "image/png": "[encoded data removed]"
          },
          "metadata": {
            "needs_background": "light"
          }
        },
        {
          "output_type": "display_data",
          "data": {
            "text/plain": [
              "<Figure size 432x288 with 1 Axes>"
            ],
            "image/png": "[encoded data removed]"
          },
          "metadata": {
            "needs_background": "light"
          }
        },
        {
          "output_type": "display_data",
          "data": {
            "text/plain": [
              "<Figure size 432x288 with 1 Axes>"
            ],
            "image/png": "[encoded data removed]"
          },
          "metadata": {
            "needs_background": "light"
          }
        },
        {
          "output_type": "display_data",
          "data": {
            "text/plain": [
              "<Figure size 432x288 with 1 Axes>"
            ],
            "image/png": "[encoded data removed]"
          },
          "metadata": {
            "needs_background": "light"
          }
        },
        {
          "output_type": "display_data",
          "data": {
            "text/plain": [
              "<Figure size 432x288 with 1 Axes>"
            ],
            "image/png": "[encoded data removed]"
          },
          "metadata": {
            "needs_background": "light"
          }
        },
        {
          "output_type": "display_data",
          "data": {
            "text/plain": [
              "<Figure size 432x288 with 1 Axes>"
            ],
            "image/png": "[encoded data removed]"
          },
          "metadata": {
            "needs_background": "light"
          }
        },
        {
          "output_type": "display_data",
          "data": {
            "text/plain": [
              "<Figure size 432x288 with 1 Axes>"
            ],
            "image/png": "[encoded data removed]"
          },
          "metadata": {
            "needs_background": "light"
          }
        },
        {
          "output_type": "display_data",
          "data": {
            "text/plain": [
              "<Figure size 432x288 with 1 Axes>"
            ],
            "image/png": "[encoded data removed]"
          },
          "metadata": {
            "needs_background": "light"
          }
        },
        {
          "output_type": "display_data",
          "data": {
            "text/plain": [
              "<Figure size 432x288 with 1 Axes>"
            ],
            "image/png": "[encoded data removed]"
          },
          "metadata": {
            "needs_background": "light"
          }
        },
        {
          "output_type": "display_data",
          "data": {
            "text/plain": [
              "<Figure size 432x288 with 1 Axes>"
            ],
            "image/png": "[encoded data removed]"
          },
          "metadata": {
            "needs_background": "light"
          }
        }
      ]
    },
    {
      "cell_type": "code",
      "source": [
        "hidden = [200,300,400,500]\n",
        "all_loss = []\n",
        "\n",
        "for h in hidden:\n",
        "    print (\"\\nStarting a Restricted Boltzmann Machine..\")\n",
        "\n",
        "    rbm = RestrictedBoltzmannMachine(ndim_visible=image_size[0]*image_size[1],\n",
        "                                        ndim_hidden=h,\n",
        "                                        is_bottom=True,\n",
        "                                        image_size=image_size,\n",
        "                                        is_top=False,\n",
        "                                        n_labels=10,\n",
        "                                        batch_size=20\n",
        "    )\n",
        "\n",
        "    rbm.cd1(visible_trainset=train_imgs, n_iterations=4000)\n",
        "    all_loss.append(rbm.rec_loss)"
      ],
      "metadata": {
        "colab": {
          "base_uri": "https://localhost:8080/"
        },
        "id": "xFyRhKb5a_xt",
        "outputId": "46a3b572-9100-44f2-bf18-702728939023"
      },
      "execution_count": null,
      "outputs": [
        {
          "output_type": "stream",
          "name": "stdout",
          "text": [
            "\n",
            "Starting a Restricted Boltzmann Machine..\n",
            "learning CD1\n",
            "iteration=      0 recon_loss=0.3168\n",
            "iteration=    400 recon_loss=0.0636\n",
            "iteration=    800 recon_loss=0.0526\n",
            "iteration=   1200 recon_loss=0.0471\n",
            "iteration=   1600 recon_loss=0.0440\n",
            "iteration=   2000 recon_loss=0.0419\n",
            "iteration=   2400 recon_loss=0.0394\n",
            "iteration=   2800 recon_loss=0.0378\n",
            "iteration=   3200 recon_loss=0.0368\n",
            "iteration=   3600 recon_loss=0.0356\n",
            "\n",
            "Starting a Restricted Boltzmann Machine..\n",
            "learning CD1\n",
            "iteration=      0 recon_loss=0.2983\n",
            "iteration=    400 recon_loss=0.0595\n",
            "iteration=    800 recon_loss=0.0485\n",
            "iteration=   1200 recon_loss=0.0430\n",
            "iteration=   1600 recon_loss=0.0400\n",
            "iteration=   2000 recon_loss=0.0379\n",
            "iteration=   2400 recon_loss=0.0355\n",
            "iteration=   2800 recon_loss=0.0340\n",
            "iteration=   3200 recon_loss=0.0331\n",
            "iteration=   3600 recon_loss=0.0319\n",
            "\n",
            "Starting a Restricted Boltzmann Machine..\n",
            "learning CD1\n",
            "iteration=      0 recon_loss=0.2816\n",
            "iteration=    400 recon_loss=0.0566\n",
            "iteration=    800 recon_loss=0.0457\n",
            "iteration=   1200 recon_loss=0.0404\n",
            "iteration=   1600 recon_loss=0.0375\n",
            "iteration=   2000 recon_loss=0.0354\n",
            "iteration=   2400 recon_loss=0.0332\n",
            "iteration=   2800 recon_loss=0.0318\n",
            "iteration=   3200 recon_loss=0.0308\n",
            "iteration=   3600 recon_loss=0.0296\n",
            "\n",
            "Starting a Restricted Boltzmann Machine..\n",
            "learning CD1\n",
            "iteration=      0 recon_loss=0.2650\n",
            "iteration=    400 recon_loss=0.0548\n",
            "iteration=    800 recon_loss=0.0438\n",
            "iteration=   1200 recon_loss=0.0384\n",
            "iteration=   1600 recon_loss=0.0357\n",
            "iteration=   2000 recon_loss=0.0336\n",
            "iteration=   2400 recon_loss=0.0316\n",
            "iteration=   2800 recon_loss=0.0302\n",
            "iteration=   3200 recon_loss=0.0295\n",
            "iteration=   3600 recon_loss=0.0284\n",
            "[[], [], [], []]\n"
          ]
        }
      ]
    },
    {
      "cell_type": "code",
      "source": [
        "color = [\"blue\", \"orange\", \"green\", \"red\"]\n",
        "\n",
        "plt.figure(figsize=(9,9))\n",
        "\n",
        "for i in range(0,len(hidden)):\n",
        "    plt.plot(np.arange(0,3601,400), all_loss[i], c = color[i], label = hidden[i])\n",
        "plt.xlabel(\"Iterations\")\n",
        "plt.ylabel(\"Error\")\n",
        "plt.title(\"Reconstruction Error\")\n",
        "plt.legend()"
      ],
      "metadata": {
        "colab": {
          "base_uri": "https://localhost:8080/",
          "height": 584
        },
        "id": "rwBISupi92pL",
        "outputId": "d6208a17-924f-457d-92a7-fc7efb3ec906"
      },
      "execution_count": null,
      "outputs": [
        {
          "output_type": "execute_result",
          "data": {
            "text/plain": [
              "<matplotlib.legend.Legend at 0x7fbe494381c0>"
            ]
          },
          "metadata": {},
          "execution_count": 72
        },
        {
          "output_type": "display_data",
          "data": {
            "text/plain": [
              "<Figure size 648x648 with 1 Axes>"
            ],
            "image/png": "[encoded data removed]"
          },
          "metadata": {
            "needs_background": "light"
          }
        }
      ]
    },
    {
      "cell_type": "code",
      "source": [
        "plt.figure(figsize=(15,7))\n",
        "\n",
        "plt.subplot(121)\n",
        "plt.plot(rbm.delta_weight_vh_norm, label = \"delta weight\")\n",
        "plt.xlabel('Iteration')\n",
        "plt.ylabel('Update')\n",
        "plt.title(\"Weight update\")\n",
        "plt.legend()\n",
        "\n",
        "plt.subplot(122)\n",
        "plt.plot(rbm.delta_bias_v_norm, label=\"Delta bias v\", c = \"green\")\n",
        "plt.plot(rbm.delta_bias_h_norm, label=\"Delta bias h\", c = \"orange\")\n",
        "plt.xlabel('Iteration')\n",
        "plt.ylabel('Update')\n",
        "plt.title(\"Bias update\")\n",
        "plt.legend()\n",
        "\n",
        "plt.show()"
      ],
      "metadata": {
        "colab": {
          "base_uri": "https://localhost:8080/",
          "height": 458
        },
        "id": "e4HR3LVWYb9m",
        "outputId": "f3f95f9c-69a9-44a3-c8ce-07821ae011a1"
      },
      "execution_count": null,
      "outputs": [
        {
          "output_type": "display_data",
          "data": {
            "text/plain": [
              "<Figure size 1080x504 with 2 Axes>"
            ],
            "image/png": "[encoded data removed]"
          },
          "metadata": {
            "needs_background": "light"
          }
        }
      ]
    },
    {
      "cell_type": "code",
      "source": [
        "#Finds the surest guess that was correct and incorrect\n",
        "def printBestAndWorst(imgs,pred_lbls,true_lbls):\n",
        "    \"\"\"\n",
        "        imgs: (n_images, image_size)\n",
        "        pred_lbls: (n_images, n_labels)\n",
        "    \"\"\"\n",
        "    n=pred_lbls.shape[0]\n",
        "    assert n==imgs.shape[0] and n==true_lbls.shape[0]\n",
        "\n",
        "    ind_correct=np.arange(n)[np.argmax(pred_lbls,axis=1)==np.argmax(true_lbls,axis=1)]\n",
        "    ind_incorrect=np.arange(n)[np.argmax(pred_lbls,axis=1)!=np.argmax(true_lbls,axis=1)]\n",
        "\n",
        "    most_certainty_ind=np.argmax(pred_lbls,axis=1)\n",
        "    most_certainty=np.max(pred_lbls, axis=1)\n",
        "\n",
        "    #Prints most certain correct\n",
        "    ind_most_certain_correct = np.argmax(most_certainty[ind_correct])\n",
        "    most_certain_correct=most_certainty[ind_correct[ind_most_certain_correct]]\n",
        "    lbl_true=np.argmax(true_lbls[ind_correct[ind_most_certain_correct]])\n",
        "    lbl_pred=np.argmax(pred_lbls[ind_correct[ind_most_certain_correct]])\n",
        "    img=imgs[ind_correct[ind_most_certain_correct]]\n",
        "\n",
        "    print(\"Most certain correct: Guessed \", lbl_pred, \"with certainty\", most_certain_correct, \"actually was\", lbl_true)\n",
        "\n",
        "    plt.imshow(img.reshape((image_size[0], image_size[1])))\n",
        "    plt.grid(False)\n",
        "    plt.axis('off')\n",
        "    plt.show()\n",
        "\n",
        "    #Print least certain correct\n",
        "    ind_least_certain_correct = np.argmin(most_certainty[ind_correct])\n",
        "    least_certain_correct=most_certainty[ind_correct[ind_least_certain_correct]]\n",
        "    lbl_true=np.argmax(true_lbls[ind_correct[ind_least_certain_correct]])\n",
        "    lbl_pred=np.argmax(pred_lbls[ind_correct[ind_least_certain_correct]])\n",
        "    img=imgs[ind_correct[ind_least_certain_correct]]\n",
        "\n",
        "    print(\"Least certain correct: Guessed \", lbl_pred, \"with certainty\", least_certain_correct, \"actually was\", lbl_true)\n",
        "\n",
        "    plt.imshow(img.reshape((image_size[0], image_size[1])))\n",
        "    plt.grid(False)\n",
        "    plt.axis('off')\n",
        "    plt.show()\n",
        "\n",
        "    #Prints most certain incorrect\n",
        "    ind_most_certain_incorrect = np.argmax(most_certainty[ind_incorrect])\n",
        "    most_certain_incorrect=most_certainty[ind_incorrect[ind_most_certain_incorrect]]\n",
        "    lbl_true=np.argmax(true_lbls[ind_incorrect[ind_most_certain_incorrect]])\n",
        "    lbl_pred=np.argmax(pred_lbls[ind_incorrect[ind_most_certain_incorrect]])\n",
        "    img=imgs[ind_incorrect[ind_most_certain_incorrect]]\n",
        "\n",
        "    print(\"Most certain incorrect: Guessed \", lbl_pred, \"with certainty\", most_certain_incorrect, \"actually was\", lbl_true)\n",
        "\n",
        "    plt.imshow(img.reshape((image_size[0], image_size[1])))\n",
        "    plt.grid(False)\n",
        "    plt.axis('off')\n",
        "    plt.show()\n",
        "\n",
        "    #Print least certain incorrect\n",
        "    ind_least_certain_incorrect = np.argmin(most_certainty[ind_incorrect])\n",
        "    least_certain_incorrect=most_certainty[ind_incorrect[ind_least_certain_incorrect]]\n",
        "    lbl_true=np.argmax(true_lbls[ind_incorrect[ind_least_certain_incorrect]])\n",
        "    lbl_pred=np.argmax(pred_lbls[ind_incorrect[ind_least_certain_incorrect]])\n",
        "    img=imgs[ind_incorrect[ind_least_certain_incorrect]]\n",
        "\n",
        "    print(\"Least certain incorrect: Guessed \", lbl_pred, \"with certainty\", least_certain_incorrect, \"actually was\", lbl_true)\n",
        "\n",
        "    plt.imshow(img.reshape((image_size[0], image_size[1])))\n",
        "    plt.grid(False)\n",
        "    plt.axis('off')\n",
        "    plt.show()\n",
        "\n",
        "printBestAndWorst(test_imgs, pred_lbls_test, test_lbls)\n",
        "printBestAndWorst(train_imgs, pred_lbls_train, train_lbls)\n"
      ],
      "metadata": {
        "colab": {
          "base_uri": "https://localhost:8080/",
          "height": 1000
        },
        "id": "q82Z7fhcusCh",
        "outputId": "44f52730-fc99-4619-be4b-6dbf6340b604"
      },
      "execution_count": null,
      "outputs": [
        {
          "output_type": "stream",
          "name": "stdout",
          "text": [
            "Most certain correct: Guessed  4 with certainty 0.9999991847852421 actually was 4\n"
          ]
        },
        {
          "output_type": "display_data",
          "data": {
            "text/plain": [
              "<Figure size 432x288 with 1 Axes>"
            ],
            "image/png": "[encoded data removed]"
          },
          "metadata": {
            "needs_background": "light"
          }
        },
        {
          "output_type": "stream",
          "name": "stdout",
          "text": [
            "Least certain correct: Guessed  7 with certainty 0.3238512674064528 actually was 7\n"
          ]
        },
        {
          "output_type": "display_data",
          "data": {
            "text/plain": [
              "<Figure size 432x288 with 1 Axes>"
            ],
            "image/png": "[encoded data removed]"
          },
          "metadata": {
            "needs_background": "light"
          }
        },
        {
          "output_type": "stream",
          "name": "stdout",
          "text": [
            "Most certain incorrect: Guessed  4 with certainty 0.9999477125596212 actually was 2\n"
          ]
        },
        {
          "output_type": "display_data",
          "data": {
            "text/plain": [
              "<Figure size 432x288 with 1 Axes>"
            ],
            "image/png": "[encoded data removed]"
          },
          "metadata": {
            "needs_background": "light"
          }
        },
        {
          "output_type": "stream",
          "name": "stdout",
          "text": [
            "Least certain incorrect: Guessed  3 with certainty 0.3277534621258948 actually was 2\n"
          ]
        },
        {
          "output_type": "display_data",
          "data": {
            "text/plain": [
              "<Figure size 432x288 with 1 Axes>"
            ],
            "image/png": "[encoded data removed]"
          },
          "metadata": {
            "needs_background": "light"
          }
        },
        {
          "output_type": "stream",
          "name": "stdout",
          "text": [
            "Most certain correct: Guessed  4 with certainty 0.99999982404527 actually was 4\n"
          ]
        },
        {
          "output_type": "display_data",
          "data": {
            "text/plain": [
              "<Figure size 432x288 with 1 Axes>"
            ],
            "image/png": "[encoded data removed]"
          },
          "metadata": {
            "needs_background": "light"
          }
        },
        {
          "output_type": "stream",
          "name": "stdout",
          "text": [
            "Least certain correct: Guessed  2 with certainty 0.29850298384332086 actually was 2\n"
          ]
        },
        {
          "output_type": "display_data",
          "data": {
            "text/plain": [
              "<Figure size 432x288 with 1 Axes>"
            ],
            "image/png": "[encoded data removed]"
          },
          "metadata": {
            "needs_background": "light"
          }
        },
        {
          "output_type": "stream",
          "name": "stdout",
          "text": [
            "Most certain incorrect: Guessed  2 with certainty 0.9999080042697117 actually was 3\n"
          ]
        },
        {
          "output_type": "display_data",
          "data": {
            "text/plain": [
              "<Figure size 432x288 with 1 Axes>"
            ],
            "image/png": "[encoded data removed]"
          },
          "metadata": {
            "needs_background": "light"
          }
        },
        {
          "output_type": "stream",
          "name": "stdout",
          "text": [
            "Least certain incorrect: Guessed  4 with certainty 0.24537843795001993 actually was 2\n"
          ]
        },
        {
          "output_type": "display_data",
          "data": {
            "text/plain": [
              "<Figure size 432x288 with 1 Axes>"
            ],
            "image/png": "[encoded data removed]"
          },
          "metadata": {
            "needs_background": "light"
          }
        }
      ]
    }
  ]
}